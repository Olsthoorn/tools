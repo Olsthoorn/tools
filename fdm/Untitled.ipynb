{
 "cells": [
  {
   "cell_type": "markdown",
   "id": "7f0938e5-beeb-46b3-aaef-836fbb48ec16",
   "metadata": {},
   "source": [
    "Dear Prof. Olsthoorn,\n",
    "\n",
    "It's Paolo Trinchero, a consultant from Spain. Recently I came across your python script for FD modelling of gw flow. Let me say that I was really impressed by the work you did, it's really a wonderful piece of code, quite useful for both applications and teaching.\n",
    "\n",
    "I have been playing a bit with yout code (fdm_t) trying to customise it for my needs, as I am currently looking at some interference tests conducted in fractured rock. The code works quite nicely for the pumping stage but it gives me some weird results for the recovery (see figure below where the continuous line is the FD solution whereas the dashed line is the Theis solution). The way I implemented a time function for the pumping rate is quite trivial:\n"
   ]
  },
  {
   "cell_type": "code",
   "execution_count": 25,
   "id": "7cedb96b-8069-459c-bba7-2087f53cb5ed",
   "metadata": {},
   "outputs": [],
   "source": [
    "import numpy as np\n",
    "import matplotlib.pyplot as plt\n",
    "from scipy.special import exp1 as Wt\n",
    "from mfgrid import  Grid\n",
    "from inspect import signature\n",
    "from fdm3t import fdm3t\n",
    "\n",
    "def newfig(title, xlabel, ylabel, xlim=None, ylim=None, xscale=None, yscale=None, figsize=(8, 6)):\n",
    "    fig, ax = plt.subplots(1, figsize=figsize)\n",
    "    ax.set_title(title)\n",
    "    ax.set_xlabel(xlabel)\n",
    "    ax.set_ylabel(ylabel)\n",
    "    if xlim is not None: ax.set_xlim(xlim)\n",
    "    if ylim is not None: ax.set_ylim(ylim)\n",
    "    if xscale is not None: ax.set_xscale(xscale)\n",
    "    if yscale is not None: ax.set_yscale(yscale)\n",
    "    ax.grid()\n",
    "    return ax\n"
   ]
  },
  {
   "cell_type": "code",
   "execution_count": 17,
   "id": "1da9b376-840c-4f6d-b478-e8b6a10ebca7",
   "metadata": {},
   "outputs": [
    {
     "data": {
      "image/png": "[encoded data removed]",
      "text/plain": [
       "<Figure size 640x480 with 1 Axes>"
      ]
     },
     "metadata": {},
     "output_type": "display_data"
    }
   ],
   "source": [
    "x = np.logspace(-1, 4, 51)\n",
    "z = [-1, 0]\n",
    "y = [-1, 1]\n",
    "\n",
    "gr = Grid(x, y, z, axial=True)\n",
    "ax = gr.plot_grid()"
   ]
  },
  {
   "cell_type": "code",
   "execution_count": 26,
   "id": "4134159f-dc01-459f-9204-5645d7a9444d",
   "metadata": {},
   "outputs": [
    {
     "data": {
      "text/plain": [
       "<Signature (gr=None, t=None, kxyz=None, c=None, Ss=None, GHB=None, FQ=None, HI=None, IBOUND=None, epsilon=0.67)>"
      ]
     },
     "execution_count": 26,
     "metadata": {},
     "output_type": "execute_result"
    }
   ],
   "source": [
    "signature(fdm3t)"
   ]
  },
  {
   "cell_type": "code",
   "execution_count": 27,
   "id": "11e40311-b65e-4bb6-8097-53fcdfc10037",
   "metadata": {},
   "outputs": [
    {
     "ename": "NameError",
     "evalue": "name 't' is not defined",
     "output_type": "error",
     "traceback": [
      "\u001b[0;31m---------------------------------------------------------------------------\u001b[0m",
      "\u001b[0;31mNameError\u001b[0m                                 Traceback (most recent call last)",
      "Cell \u001b[0;32mIn[27], line 1\u001b[0m\n\u001b[0;32m----> 1\u001b[0m fdm3t(gr\u001b[38;5;241m=\u001b[39mgr, t\u001b[38;5;241m=\u001b[39m\u001b[43mt\u001b[49m, kxyz\u001b[38;5;241m=\u001b[39mnp\u001b[38;5;241m.\u001b[39mconst(\u001b[38;5;241m10.\u001b[39m), c\u001b[38;5;241m=\u001b[39m\u001b[38;5;28;01mNone\u001b[39;00m, Ss\u001b[38;5;241m=\u001b[39m\u001b[38;5;28;01mNone\u001b[39;00m, GHB\u001b[38;5;241m=\u001b[39m\u001b[38;5;28;01mNone\u001b[39;00m, FQ\u001b[38;5;241m=\u001b[39m\u001b[38;5;28;01mNone\u001b[39;00m, HI\u001b[38;5;241m=\u001b[39mgr\u001b[38;5;241m.\u001b[39mconst(\u001b[38;5;241m0\u001b[39m), IBOUND\u001b[38;5;241m=\u001b[39mgr\u001b[38;5;241m.\u001b[39mconst(\u001b[38;5;241m1\u001b[39m, dtype\u001b[38;5;241m=\u001b[39m\u001b[38;5;28mint\u001b[39m))\n",
      "\u001b[0;31mNameError\u001b[0m: name 't' is not defined"
     ]
    }
   ],
   "source": [
    "fdm3t(gr=gr, t=t, kxyz=np.const(10.), c=None, Ss=None, GHB=None, FQ=None, HI=gr.const(0), IBOUND=gr.const(1, dtype=int))"
   ]
  },
  {
   "cell_type": "code",
   "execution_count": 57,
   "id": "5ff6942e-f6a9-4f95-93c2-a1d40d9d007c",
   "metadata": {},
   "outputs": [
    {
     "ename": "SyntaxError",
     "evalue": "cannot assign to subscript here. Maybe you meant '==' instead of '='? (459544656.py, line 5)",
     "output_type": "error",
     "traceback": [
      "\u001b[0;36m  Cell \u001b[0;32mIn[57], line 5\u001b[0;36m\u001b[0m\n\u001b[0;31m    FQ_well_on  = { 0, z[:, 0, 0] = -650}\u001b[0m\n\u001b[0m                       ^\u001b[0m\n\u001b[0;31mSyntaxError\u001b[0m\u001b[0;31m:\u001b[0m cannot assign to subscript here. Maybe you meant '==' instead of '='?\n"
     ]
    }
   ],
   "source": [
    "t = np.hstack((np.logspace(-1, 3, 41), 10 ** 3 + np.logspace(-1, 3, 41)))\n",
    "\n",
    "FQ = gr.const(0); FQ[:, 0, 0] = -650\n",
    "\n",
    "FQ_well_on  = { 0, FQ[:, 0, 0] = -650}\n",
    "FQ_well_off = {42, z[:, 0, 0] = 0.\n",
    "FH = {0: z[:, 0, -1] = 0.\n",
    "\n",
    "fixedQ = { 0: gr.to_struct_array(FQ_well_0n,   dtype=dtypeFQ),\n",
    "          10, gr._to_struct_array(FQ_well_off, dtype=dtypeFQ)\n",
    "         }\n",
    "fixedH = {0, gr.to_struct_array(FH, dtype=dtypeFH)\n",
    "         }\n"
   ]
  },
  {
   "cell_type": "code",
   "execution_count": 42,
   "id": "9b170c19-2a77-4d60-876b-677ed6867b4c",
   "metadata": {},
   "outputs": [
    {
     "ename": "NameError",
     "evalue": "name 't' is not defined",
     "output_type": "error",
     "traceback": [
      "\u001b[0;31m---------------------------------------------------------------------------\u001b[0m",
      "\u001b[0;31mNameError\u001b[0m                                 Traceback (most recent call last)",
      "Cell \u001b[0;32mIn[42], line 1\u001b[0m\n\u001b[0;32m----> 1\u001b[0m out \u001b[38;5;241m=\u001b[39m fdm3t(gr\u001b[38;5;241m=\u001b[39mgr, t\u001b[38;5;241m=\u001b[39m\u001b[43mt\u001b[49m, kxyz\u001b[38;5;241m=\u001b[39mnp\u001b[38;5;241m.\u001b[39mconst(\u001b[38;5;241m10.\u001b[39m), c\u001b[38;5;241m=\u001b[39m\u001b[38;5;28;01mNone\u001b[39;00m, Ss\u001b[38;5;241m=\u001b[39m\u001b[38;5;241m1e-4\u001b[39m, GHB\u001b[38;5;241m=\u001b[39m\u001b[38;5;28;01mNone\u001b[39;00m, FQ\u001b[38;5;241m=\u001b[39mfixedQ, HI\u001b[38;5;241m=\u001b[39mgr\u001b[38;5;241m.\u001b[39mconst(\u001b[38;5;241m0\u001b[39m), FH\u001b[38;5;241m=\u001b[39mfixedH, IDOMAIN\u001b[38;5;241m=\u001b[39mgr\u001b[38;5;241m.\u001b[39mconst(\u001b[38;5;241m1\u001b[39m, dtype\u001b[38;5;241m=\u001b[39m\u001b[38;5;28mint\u001b[39m))\n",
      "\u001b[0;31mNameError\u001b[0m: name 't' is not defined"
     ]
    }
   ],
   "source": [
    "\n",
    "out = fdm3t(gr=gr, t=t, kxyz=np.const(10.), c=None, Ss=1e-4, GHB=None, FQ=fixedQ, HI=gr.const(0), FH=fixedH, IDOMAIN=gr.const(1, dtype=int))"
   ]
  },
  {
   "cell_type": "code",
   "execution_count": 62,
   "id": "20c83586-1759-45d6-badb-9292597175d8",
   "metadata": {},
   "outputs": [
    {
     "data": {
      "text/plain": [
       "array([[[-650.,    0.,    0.,    0.,    0.,    0.,    0.,    0.,    0.,\n",
       "            0.,    0.,    0.,    0.,    0.,    0.,    0.,    0.,    0.,\n",
       "            0.,    0.,    0.,    0.,    0.,    0.,    0.,    0.,    0.,\n",
       "            0.,    0.,    0.,    0.,    0.,    0.,    0.,    0.,    0.,\n",
       "            0.,    0.,    0.,    0.,    0.,    0.,    0.,    0.,    0.,\n",
       "            0.,    0.,    0.,    0.,    0.]]])"
      ]
     },
     "execution_count": 62,
     "metadata": {},
     "output_type": "execute_result"
    }
   ],
   "source": [
    "z = np.zeros(gr.shape)\n",
    "z[:, 0, 0] = -650\n",
    "z"
   ]
  },
  {
   "cell_type": "code",
   "execution_count": 60,
   "id": "45eaaeef-c693-471f-bff1-0b61b30d8168",
   "metadata": {},
   "outputs": [],
   "source": [
    " np.zeros(gr.shape)[:, 0, 0] = 3"
   ]
  },
  {
   "cell_type": "code",
   "execution_count": 48,
   "id": "0400a82a-759f-410f-ae9b-dd555449020f",
   "metadata": {},
   "outputs": [
    {
     "data": {
      "text/plain": [
       "2"
      ]
     },
     "execution_count": 48,
     "metadata": {},
     "output_type": "execute_result"
    }
   ],
   "source": [
    "y"
   ]
  },
  {
   "cell_type": "code",
   "execution_count": null,
   "id": "d46f1c0e-8735-4eac-a4f5-744ad164a863",
   "metadata": {},
   "outputs": [],
   "source": []
  }
 ],
 "metadata": {
  "kernelspec": {
   "display_name": "Python 3 (ipykernel)",
   "language": "python",
   "name": "python3"
  },
  "language_info": {
   "codemirror_mode": {
    "name": "ipython",
    "version": 3
   },
   "file_extension": ".py",
   "mimetype": "text/x-python",
   "name": "python",
   "nbconvert_exporter": "python",
   "pygments_lexer": "ipython3",
   "version": "3.12.2"
  }
 },
 "nbformat": 4,
 "nbformat_minor": 5
}
