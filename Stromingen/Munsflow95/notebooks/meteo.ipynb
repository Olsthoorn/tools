{
 "cells": [
  {
   "cell_type": "markdown",
   "id": "344794a5",
   "metadata": {},
   "source": [
    "# Reading and preparing meteo data\n",
    "\n",
    "Read the data for DeBilt from DeBilt.csv"
   ]
  },
  {
   "cell_type": "code",
   "execution_count": 2,
   "id": "9c321c42",
   "metadata": {},
   "outputs": [],
   "source": [
    "import os\n",
    "import numpy as np\n",
    "import matplotlib.pyplot as plt\n",
    "import pandas as pd\n",
    "import etc\n",
    "\n",
    "dirs = etc.Dirs(os.getcwd())"
   ]
  },
  {
   "cell_type": "code",
   "execution_count": null,
   "id": "823dce33",
   "metadata": {},
   "outputs": [
    {
     "name": "stdout",
     "output_type": "stream",
     "text": [
      "Start and end date of De Bilt meteo data.\n",
      " DatetimeIndex(['1960-01-01', '2024-07-15'], dtype='datetime64[ns]', freq=None)\n",
      "Number of days = 23573\n",
      "Mean values: DR      1.762020\n",
      "RH      2.297094\n",
      "EV24    1.538973\n",
      "dtype: float64\n"
     ]
    }
   ],
   "source": [
    "meteo_csv = os.path.join(dirs.data, \"DeBilt.csv\")\n",
    "os.path.isfile(meteo_csv)\n",
    "\n",
    "deBilt = pd.read_csv(meteo_csv, header=0, parse_dates=True, index_col=0)\n",
    "\n",
    "# Start end dates\n",
    "print(\"Start and end date of De Bilt meteo data.\\n\", deBilt.index[[0, -1]])\n",
    "print(f\"Number of days = {len(deBilt)}\")\n",
    "print(\"Mean values:\", deBilt.mean())\n",
    "print(\"The data 'RH' and 'EV24 are in mm/d. the Duration DR are in hours on a given day.\")\n",
    "print(\"The index is in time stamps, one line per 24h, all at 08:00h in the morning\")"
   ]
  },
  {
   "cell_type": "code",
   "execution_count": 6,
   "id": "1d03d47b",
   "metadata": {},
   "outputs": [
    {
     "data": {
      "text/html": [
       "<div>\n",
       "<style scoped>\n",
       "    .dataframe tbody tr th:only-of-type {\n",
       "        vertical-align: middle;\n",
       "    }\n",
       "\n",
       "    .dataframe tbody tr th {\n",
       "        vertical-align: top;\n",
       "    }\n",
       "\n",
       "    .dataframe thead th {\n",
       "        text-align: right;\n",
       "    }\n",
       "</style>\n",
       "<table border=\"1\" class=\"dataframe\">\n",
       "  <thead>\n",
       "    <tr style=\"text-align: right;\">\n",
       "      <th></th>\n",
       "      <th>DR</th>\n",
       "      <th>RH</th>\n",
       "      <th>EV24</th>\n",
       "    </tr>\n",
       "  </thead>\n",
       "  <tbody>\n",
       "    <tr>\n",
       "      <th>2020-01-01</th>\n",
       "      <td>0.0</td>\n",
       "      <td>0.0</td>\n",
       "      <td>0.1</td>\n",
       "    </tr>\n",
       "    <tr>\n",
       "      <th>2020-01-02</th>\n",
       "      <td>0.0</td>\n",
       "      <td>0.0</td>\n",
       "      <td>0.1</td>\n",
       "    </tr>\n",
       "    <tr>\n",
       "      <th>2020-01-03</th>\n",
       "      <td>5.8</td>\n",
       "      <td>4.5</td>\n",
       "      <td>0.1</td>\n",
       "    </tr>\n",
       "    <tr>\n",
       "      <th>2020-01-04</th>\n",
       "      <td>2.3</td>\n",
       "      <td>1.1</td>\n",
       "      <td>0.1</td>\n",
       "    </tr>\n",
       "    <tr>\n",
       "      <th>2020-01-05</th>\n",
       "      <td>0.1</td>\n",
       "      <td>0.1</td>\n",
       "      <td>0.1</td>\n",
       "    </tr>\n",
       "    <tr>\n",
       "      <th>...</th>\n",
       "      <td>...</td>\n",
       "      <td>...</td>\n",
       "      <td>...</td>\n",
       "    </tr>\n",
       "    <tr>\n",
       "      <th>2024-07-11</th>\n",
       "      <td>0.0</td>\n",
       "      <td>0.0</td>\n",
       "      <td>3.0</td>\n",
       "    </tr>\n",
       "    <tr>\n",
       "      <th>2024-07-12</th>\n",
       "      <td>7.3</td>\n",
       "      <td>25.3</td>\n",
       "      <td>0.9</td>\n",
       "    </tr>\n",
       "    <tr>\n",
       "      <th>2024-07-13</th>\n",
       "      <td>2.8</td>\n",
       "      <td>2.9</td>\n",
       "      <td>2.0</td>\n",
       "    </tr>\n",
       "    <tr>\n",
       "      <th>2024-07-14</th>\n",
       "      <td>0.0</td>\n",
       "      <td>0.0</td>\n",
       "      <td>4.1</td>\n",
       "    </tr>\n",
       "    <tr>\n",
       "      <th>2024-07-15</th>\n",
       "      <td>2.2</td>\n",
       "      <td>2.4</td>\n",
       "      <td>4.1</td>\n",
       "    </tr>\n",
       "  </tbody>\n",
       "</table>\n",
       "<p>1658 rows × 3 columns</p>\n",
       "</div>"
      ],
      "text/plain": [
       "             DR    RH  EV24\n",
       "2020-01-01  0.0   0.0   0.1\n",
       "2020-01-02  0.0   0.0   0.1\n",
       "2020-01-03  5.8   4.5   0.1\n",
       "2020-01-04  2.3   1.1   0.1\n",
       "2020-01-05  0.1   0.1   0.1\n",
       "...         ...   ...   ...\n",
       "2024-07-11  0.0   0.0   3.0\n",
       "2024-07-12  7.3  25.3   0.9\n",
       "2024-07-13  2.8   2.9   2.0\n",
       "2024-07-14  0.0   0.0   4.1\n",
       "2024-07-15  2.2   2.4   4.1\n",
       "\n",
       "[1658 rows x 3 columns]"
      ]
     },
     "execution_count": 6,
     "metadata": {},
     "output_type": "execute_result"
    }
   ],
   "source": [
    "deBilt_short = deBilt.loc[deBilt.index >= np.datetime64(\"2020-01-01\"), :]\n",
    "deBilt_short"
   ]
  },
  {
   "cell_type": "code",
   "execution_count": 13,
   "id": "7dedd121",
   "metadata": {},
   "outputs": [
    {
     "data": {
      "text/plain": [
       "23573"
      ]
     },
     "execution_count": 13,
     "metadata": {},
     "output_type": "execute_result"
    }
   ],
   "source": [
    "len(deBilt)"
   ]
  },
  {
   "cell_type": "code",
   "execution_count": null,
   "id": "ac1d9c79",
   "metadata": {},
   "outputs": [],
   "source": []
  }
 ],
 "metadata": {
  "kernelspec": {
   "display_name": "Python 3",
   "language": "python",
   "name": "python3"
  },
  "language_info": {
   "codemirror_mode": {
    "name": "ipython",
    "version": 3
   },
   "file_extension": ".py",
   "mimetype": "text/x-python",
   "name": "python",
   "nbconvert_exporter": "python",
   "pygments_lexer": "ipython3",
   "version": "3.12.2"
  }
 },
 "nbformat": 4,
 "nbformat_minor": 5
}
