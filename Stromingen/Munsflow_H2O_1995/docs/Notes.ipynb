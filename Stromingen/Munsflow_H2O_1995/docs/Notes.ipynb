{
 "cells": [
  {
   "cell_type": "markdown",
   "id": "d4219e78",
   "metadata": {},
   "source": [
    "# Ubuntu installation help from ChatGPT\n",
    "\n",
    "Aug 22, 2025"
   ]
  },
  {
   "cell_type": "markdown",
   "id": "cf562a6d",
   "metadata": {},
   "source": [
    "Perfect 👌 That’s the safest way: keep my step-by-step open on your MacBook while working through the iMac installation.\n",
    "\n",
    "You’ll see the **Ubuntu boot menu** first on the iMac.\n",
    "Choose **“Try Ubuntu without installing”** (not “Install Ubuntu” yet).\n",
    "\n",
    "That lets you check the partition layout before committing anything.\n",
    "\n",
    "➡️ Once it’s booted into the live desktop, can you open a terminal (Ctrl+Alt+T) and run:\n",
    "\n",
    "```bash\n",
    "lsblk -o NAME,SIZE,TYPE,MOUNTPOINT\n",
    "```\n",
    "\n",
    "and tell me what it shows?\n",
    "\n",
    "That way I can confirm with you which disk is the **internal Fusion drive** and which is the **external SSD with macOS**, before you press anything in the installer.\n"
   ]
  }
 ],
 "metadata": {
  "language_info": {
   "name": "python"
  }
 },
 "nbformat": 4,
 "nbformat_minor": 5
}
