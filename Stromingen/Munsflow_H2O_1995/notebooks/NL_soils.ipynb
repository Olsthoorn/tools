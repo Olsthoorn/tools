{
 "cells": [
  {
   "cell_type": "markdown",
   "id": "00569f30",
   "metadata": {},
   "source": [
    "# Duch soils\n",
    "\n",
    "The properties of Dutch soils have been published by\n",
    "\n",
    "Heinen M., G.Bakker and J.H.M.Wösten (2020) Waterretentie- en doorlatendheidskarakteristieken van boven- en ondergronden in Nederland: de Staringreeks; Update 2018. Wageningen, Wageningen Environmental Research, Rapport 2978, 78 blz.; 6 fig.; 4 tab.; 22 ref. ISSN 1566-7197.\n",
    "\n",
    "The tables with the soil data are imported and allow compuation of suction, moisture and hydraulic conductivity relations for the most important Dutch soils, the so-called Staringreeks. The Staring Series defines 18 upper soils and 18 lower soils.\n",
    "\n",
    "@TO Aug. 2026"
   ]
  },
  {
   "cell_type": "code",
   "execution_count": 1,
   "id": "55fd38cb",
   "metadata": {},
   "outputs": [
    {
     "name": "stdout",
     "output_type": "stream",
     "text": [
      "/Users/Theo/GRWMODELS/python/tools/Stromingen/Munsflow_H2O_1995\n"
     ]
    }
   ],
   "source": [
    "import sys\n",
    "import os\n",
    "\n",
    "root = os.getcwd()\n",
    "expected = \"Munsflow_H2O_1995\" # Works if VScode was started in the project directory\n",
    "if not root.endswith(expected):\n",
    "    raise RuntimeError(f\"Unexpected project root: {root}\")\n",
    "\n",
    "import numpy as np              # noqa\n",
    "import matplotlib.pyplot as plt # noqa\n",
    "from itertools import cycle     # noqa\n",
    "import etc                      # noqa\n",
    "\n",
    "dirs = etc.Dirs()\n",
    "\n",
    "# Make sure the subdirectories .src etc are found. Should not be necessary\n",
    "sys.path.insert(0, os.getcwd())  # is line in .vscode/settings.json {\"jupyter.notebookFileRoot\": \"${workspaceFolder}\"}\n",
    "\n",
    "print(os.getcwd())"
   ]
  },
  {
   "cell_type": "code",
   "execution_count": 2,
   "id": "a0725e7f",
   "metadata": {},
   "outputs": [],
   "source": [
    "from src import NL_soils as sNL, US_soils as sUS"
   ]
  },
  {
   "cell_type": "markdown",
   "id": "5c536484",
   "metadata": {},
   "source": [
    "# Dutch soil properties\n",
    "\n",
    "The properties of the Staringreeks, the series of Dutch soils, are read into a pandas DataFrame and stored as class attribute data in the Soil class, which is instantatied as with the class method load_soils(wbook). The paramters are the Van Genughten parameters so that moisture, suction and conductivities for each soil can be computed from them."
   ]
  },
  {
   "cell_type": "code",
   "execution_count": 3,
   "id": "a83b5dcb",
   "metadata": {},
   "outputs": [
    {
     "name": "stdout",
     "output_type": "stream",
     "text": [
      "     Hoofdsoort                                     Omschrijving  theta_r  theta_s   alpha      n  lambda      Ks                 Leem   Lutum      os       M50   N1  N2\n",
      "code                                                                                                                                                                     \n",
      "B01        Zand           leemarm, zeer fijn tot matig fijn zand     0.02    0.427  0.0217  1.735   0.981   31.23                 0-10     NaN    0-15   105-210   32   7\n",
      "B02        Zand        zwak lemig, zeer fijn tot matig fijn zand     0.02    0.434  0.0216  1.349   7.202   83.24                10-18     NaN    0-15   105-210   27  11\n",
      "B03        Zand       sterk lemig, zeer fijn tot matig fijn zand     0.02    0.443  0.0150  1.505   0.139   19.08                18-33     NaN    0-15   105-210   14   4\n",
      "B04        Zand  zeer sterk lemig, zeer fijn tot matig fijn zand     0.02    0.462  0.0149  1.397   0.295   34.88                33-50     NaN    0-15   105-210    9   2\n",
      "B05        Zand                                        grof zand     0.01    0.381  0.0428  1.808   0.024   63.65                  NaN     NaN    0-15  210-2000   26   6\n",
      "B06        Zand                                          keileem     0.01    0.385  0.0209  1.242  -1.200  104.10                 0-50     NaN    0-15   50-2000    8   2\n",
      "B07       Zavel                                zeer lichte zavel     0.01    0.401  0.0183  1.248   0.952   14.58                  NaN    8-12    0-15       NaN    6   2\n",
      "B08       Zavel                               matig lichte zavel     0.01    0.433  0.0105  1.278  -1.919    3.00                  NaN   12-18    0-15       NaN   43   4\n",
      "B09       Zavel                                      zware zavel     0.01    0.430  0.0070  1.267  -2.387    1.75                  NaN   18-25    0-15       NaN   29   6\n",
      "B10        Klei                                      lichte klei     0.01    0.448  0.0128  1.135   4.581    3.83                  NaN   25-35    0-15       NaN   12  10\n",
      "B11        Klei                                 matig zware klei     0.01    0.591  0.0216  1.107  -5.549    6.31                  NaN   35-50    0-15       NaN   13   0\n",
      "B12        Klei                                  zeer zware klei     0.01    0.530  0.0166  1.091  -4.494    2.25                  NaN  50-100    0-15       NaN    9   5\n",
      "B13        Leem                                     zandige leem     0.01    0.416  0.0084  1.437  -1.357   29.83                50-85     NaN    0-15       NaN   10   2\n",
      "B14        Leem                                     siltige leem     0.01    0.417  0.0054  1.302  -0.335    0.90               85-100     NaN    0-15       NaN   67   2\n",
      "B15      Moerig                                       venig zand     0.01    0.528  0.0237  1.282  -1.478   87.45                  NaN     0-8   15-25       NaN   15   0\n",
      "B16      Moerig                              zandig veen en veen     0.01    0.786  0.0211  1.279  -1.221   12.36                  NaN     0-8  25-100       NaN   20   4\n",
      "B17      Moerig                                      venige klei     0.01    0.719  0.0191  1.137   0.000    4.48                  NaN   8-100   16-45       NaN   25   4\n",
      "B18      Moerig                                      kleiig veen     0.01    0.765  0.0205  1.151   0.000   13.14                  NaN   8-100   25-70       NaN   20   0\n",
      "O01        Zand           leemarm, zeer fijn tot matig fijn zand     0.01    0.366  0.0160  2.163   2.868   22.32                 0-10     NaN     0-3   105-210  109  18\n",
      "O02        Zand        zwak lemig, zeer fijn tot matig fijn zand     0.02    0.387  0.0161  1.524   2.440   22.76  2025-10-18 00:00:00     NaN     0-3   105-210   14   9\n",
      "O03        Zand       sterk lemig, zeer fijn tot matig fijn zand     0.01    0.340  0.0172  1.703   0.000   12.37                18-33     NaN     0-3   105-210   23   1\n",
      "O04        Zand  zeer sterk lemig, zeer fijn tot matig fijn zand     0.01    0.364  0.0136  1.488   2.179   25.81                33-50     NaN     0-3   105-210    9   5\n",
      "O05        Zand                                        grof zand     0.01    0.337  0.0303  2.888   0.074   17.42                  NaN     NaN     0-3  210-2000   17  18\n",
      "O06        Zand                                          keileem     0.01    0.333  0.0160  1.289  -1.010   32.83                 0-50     NaN     0-3   50-2000   15   4\n",
      "O07        Zand                                         beekleem     0.01    0.513  0.0120  1.153  -2.013   37.55                33-50     NaN     0-3    50-150   15   0\n",
      "O08       Zavel                                zeer lichte zavel     0.01    0.454  0.0113  1.346  -0.904    8.64                  NaN    8-12     0-3       NaN   14   0\n",
      "O09       Zavel                               matig lichte zavel     0.01    0.458  0.0097  1.376  -1.013    3.77                  NaN   12-18     0-3       NaN   30   3\n",
      "O10       Zavel                                      zware zavel     0.01    0.472  0.0100  1.246  -0.793    2.30                  NaN   18-25     0-3       NaN   25   5\n",
      "O11        Klei                                      lichte klei     0.01    0.444  0.0143  1.126   2.357    2.12                  NaN   25-35     0-3       NaN   11   9\n",
      "O12        Klei                                 matig zware klei     0.01    0.561  0.0088  1.158  -3.172    1.08                  NaN   35-50     0-3       NaN   25   4\n",
      "O13        Klei                                  zeer zware klei     0.01    0.573  0.0279  1.080  -6.091    9.69                  NaN  50-100     0-3       NaN   19   3\n",
      "O14        Leem                                     zandige leem     0.01    0.394  0.0033  1.617   0.514    2.50                50-85     NaN     0-3       NaN    9   4\n",
      "O15        Leem                                     siltige leem     0.01    0.410  0.0078  1.287   0.000    2.79               85-100     NaN     0-3       NaN   53   3\n",
      "O16        Veen                                  oligotroof veen     0.01    0.889  0.0097  1.364  -0.665    1.46                  NaN     NaN  35-100       NaN   16   4\n",
      "O17        Veen                        mesotroof en eutroof veen     0.01    0.849  0.0119  1.272  -1.249    3.40                  NaN     NaN  35-100       NaN   36   4\n",
      "O18        Veen                               moerige tussenlaag     0.01    0.580  0.0127  1.316  -0.786   35.95                  NaN     NaN   15-35       NaN    7   2\n"
     ]
    },
    {
     "ename": "ValueError",
     "evalue": "`x` must be strictly increasing sequence.",
     "output_type": "error",
     "traceback": [
      "\u001b[0;31m---------------------------------------------------------------------------\u001b[0m",
      "\u001b[0;31mValueError\u001b[0m                                Traceback (most recent call last)",
      "Cell \u001b[0;32mIn[3], line 5\u001b[0m\n\u001b[1;32m      3\u001b[0m sNL\u001b[38;5;241m.\u001b[39mSoil\u001b[38;5;241m.\u001b[39mpretty_data()\n\u001b[1;32m      4\u001b[0m sand_b \u001b[38;5;241m=\u001b[39m sNL\u001b[38;5;241m.\u001b[39mSoil(\u001b[38;5;124m\"\u001b[39m\u001b[38;5;124mO01\u001b[39m\u001b[38;5;124m\"\u001b[39m)\n\u001b[0;32m----> 5\u001b[0m sand_o \u001b[38;5;241m=\u001b[39m \u001b[43msNL\u001b[49m\u001b[38;5;241;43m.\u001b[39;49m\u001b[43mSoil\u001b[49m\u001b[43m(\u001b[49m\u001b[38;5;124;43m\"\u001b[39;49m\u001b[38;5;124;43mB01\u001b[39;49m\u001b[38;5;124;43m\"\u001b[39;49m\u001b[43m)\u001b[49m\n",
      "File \u001b[0;32m~/GRWMODELS/python/tools/Stromingen/Munsflow_H2O_1995/src/NL_soils.py:59\u001b[0m, in \u001b[0;36mSoil.__init__\u001b[0;34m(self, soil_code, HBW)\u001b[0m\n\u001b[1;32m     56\u001b[0m \u001b[38;5;28mself\u001b[39m\u001b[38;5;241m.\u001b[39mHBW \u001b[38;5;241m=\u001b[39m HBW\n\u001b[1;32m     58\u001b[0m \u001b[38;5;66;03m# Interpolator to get S given K\u001b[39;00m\n\u001b[0;32m---> 59\u001b[0m \u001b[38;5;28mself\u001b[39m\u001b[38;5;241m.\u001b[39mS_fr_K  \u001b[38;5;241m=\u001b[39m \u001b[38;5;28;43mself\u001b[39;49m\u001b[38;5;241;43m.\u001b[39;49m\u001b[43mS_fr_K_interpolator\u001b[49m\u001b[43m(\u001b[49m\u001b[43mS_limit\u001b[49m\u001b[38;5;241;43m=\u001b[39;49m\u001b[38;5;241;43m1e-12\u001b[39;49m\u001b[43m)\u001b[49m\n",
      "File \u001b[0;32m~/GRWMODELS/python/tools/Stromingen/Munsflow_H2O_1995/src/soil_base.py:430\u001b[0m, in \u001b[0;36mSoilBase.S_fr_K_interpolator\u001b[0;34m(self, S_limit)\u001b[0m\n\u001b[1;32m    428\u001b[0m S \u001b[38;5;241m=\u001b[39m np\u001b[38;5;241m.\u001b[39mlogspace(np\u001b[38;5;241m.\u001b[39mlog10(S_limit), \u001b[38;5;241m0\u001b[39m)\n\u001b[1;32m    429\u001b[0m k \u001b[38;5;241m=\u001b[39m \u001b[38;5;28mself\u001b[39m\u001b[38;5;241m.\u001b[39mK_fr_S(S, S_limit\u001b[38;5;241m=\u001b[39mS_limit)\n\u001b[0;32m--> 430\u001b[0m \u001b[38;5;28;01mreturn\u001b[39;00m \u001b[43mPchipInterpolator\u001b[49m\u001b[43m(\u001b[49m\u001b[43mk\u001b[49m\u001b[43m,\u001b[49m\u001b[43m \u001b[49m\u001b[43mS\u001b[49m\u001b[43m)\u001b[49m\n",
      "File \u001b[0;32m/Library/Frameworks/Python.framework/Versions/3.12/lib/python3.12/site-packages/scipy/interpolate/_cubic.py:234\u001b[0m, in \u001b[0;36mPchipInterpolator.__init__\u001b[0;34m(self, x, y, axis, extrapolate)\u001b[0m\n\u001b[1;32m    233\u001b[0m \u001b[38;5;28;01mdef\u001b[39;00m \u001b[38;5;21m__init__\u001b[39m(\u001b[38;5;28mself\u001b[39m, x, y, axis\u001b[38;5;241m=\u001b[39m\u001b[38;5;241m0\u001b[39m, extrapolate\u001b[38;5;241m=\u001b[39m\u001b[38;5;28;01mNone\u001b[39;00m):\n\u001b[0;32m--> 234\u001b[0m     x, _, y, axis, _ \u001b[38;5;241m=\u001b[39m \u001b[43mprepare_input\u001b[49m\u001b[43m(\u001b[49m\u001b[43mx\u001b[49m\u001b[43m,\u001b[49m\u001b[43m \u001b[49m\u001b[43my\u001b[49m\u001b[43m,\u001b[49m\u001b[43m \u001b[49m\u001b[43maxis\u001b[49m\u001b[43m)\u001b[49m\n\u001b[1;32m    235\u001b[0m     xp \u001b[38;5;241m=\u001b[39m x\u001b[38;5;241m.\u001b[39mreshape((x\u001b[38;5;241m.\u001b[39mshape[\u001b[38;5;241m0\u001b[39m],) \u001b[38;5;241m+\u001b[39m (\u001b[38;5;241m1\u001b[39m,)\u001b[38;5;241m*\u001b[39m(y\u001b[38;5;241m.\u001b[39mndim\u001b[38;5;241m-\u001b[39m\u001b[38;5;241m1\u001b[39m))\n\u001b[1;32m    236\u001b[0m     dk \u001b[38;5;241m=\u001b[39m \u001b[38;5;28mself\u001b[39m\u001b[38;5;241m.\u001b[39m_find_derivatives(xp, y)\n",
      "File \u001b[0;32m/Library/Frameworks/Python.framework/Versions/3.12/lib/python3.12/site-packages/scipy/interpolate/_cubic.py:61\u001b[0m, in \u001b[0;36mprepare_input\u001b[0;34m(x, y, axis, dydx)\u001b[0m\n\u001b[1;32m     59\u001b[0m dx \u001b[38;5;241m=\u001b[39m np\u001b[38;5;241m.\u001b[39mdiff(x)\n\u001b[1;32m     60\u001b[0m \u001b[38;5;28;01mif\u001b[39;00m np\u001b[38;5;241m.\u001b[39many(dx \u001b[38;5;241m<\u001b[39m\u001b[38;5;241m=\u001b[39m \u001b[38;5;241m0\u001b[39m):\n\u001b[0;32m---> 61\u001b[0m     \u001b[38;5;28;01mraise\u001b[39;00m \u001b[38;5;167;01mValueError\u001b[39;00m(\u001b[38;5;124m\"\u001b[39m\u001b[38;5;124m`x` must be strictly increasing sequence.\u001b[39m\u001b[38;5;124m\"\u001b[39m)\n\u001b[1;32m     63\u001b[0m y \u001b[38;5;241m=\u001b[39m np\u001b[38;5;241m.\u001b[39mmoveaxis(y, axis, \u001b[38;5;241m0\u001b[39m)\n\u001b[1;32m     64\u001b[0m \u001b[38;5;28;01mif\u001b[39;00m dydx \u001b[38;5;129;01mis\u001b[39;00m \u001b[38;5;129;01mnot\u001b[39;00m \u001b[38;5;28;01mNone\u001b[39;00m:\n",
      "\u001b[0;31mValueError\u001b[0m: `x` must be strictly increasing sequence."
     ]
    }
   ],
   "source": [
    "wbook = os.path.join(dirs.data, 'NL_VG_soilprops.xlsx')\n",
    "sNL.Soil.load_soils(wbook) # load once\n",
    "sNL.Soil.pretty_data()\n",
    "sand_b = sNL.Soil(\"O01\")\n",
    "sand_o = sNL.Soil(\"B01\")"
   ]
  },
  {
   "cell_type": "markdown",
   "id": "3bfb0b14",
   "metadata": {},
   "source": [
    "# The Van Genughten parameters of the \"Staringreeks\"\n",
    "\n",
    "The Staringreeks are stanard Dutch soils, containing 18 upper soils and 18 under soils. Many samples have been collected and were analyzed over a time-span of many decades. The results have been published. The last update 2018, contains the optimized Van Genughten parametes that describe the soil's properties when unsaturated."
   ]
  },
  {
   "cell_type": "code",
   "execution_count": null,
   "id": "3e2c3df8",
   "metadata": {},
   "outputs": [],
   "source": [
    "# %% Soil parameters\n",
    "    \n",
    "for BO in ['Boverngronden', 'Ondergronden']:\n",
    "    title = f'K(theta) bij Veldcapaciteit van {BO} van de Staringreeks'\n",
    "    ax = etc.newfig(title, 'soil_code', 'parameter value', yscale='log')\n",
    "\n",
    "    soil_codes = [c for c in sNL.Soil.data.index if c.startswith(BO[0])]\n",
    "\n",
    "    idx = soil_codes\n",
    "    ax.plot(idx, sNL.Soil.data.loc[soil_codes, 'Ks'], lw=2, label=r'$K_s$ [cm/d]')\n",
    "    ax.plot(idx, sNL.Soil.data.loc[soil_codes, 'theta_r'], lw=2, label=r'$\\theta_r$')\n",
    "    ax.plot(idx, sNL.Soil.data.loc[soil_codes, 'theta_s'], lw=2, label=r'$\\theta_s$')        \n",
    "    ax.plot(idx, sNL.Soil.data.loc[soil_codes, 'n'], '--', lw=2, label='n')\n",
    "    ax.plot(idx, sNL.Soil.data.loc[soil_codes, 'lambda'], '-.', lw=2, label=r'$\\lambda$ [-]')\n",
    "    \n",
    "    for i, code in enumerate(soil_codes):\n",
    "        soil = sNL.Soil(code)\n",
    "\n",
    "        ax.text((i + 1) / (len(soil_codes) + 1), 0.2,\n",
    "                soil.props['Omschrijving'], ha='center', rotation=90, fontsize=15, zorder=5,\n",
    "                bbox=dict(facecolor='white',\n",
    "                        alpha=1,\n",
    "                        edgecolor='none'),\n",
    "                transform=ax.transAxes)\n",
    "        \n",
    "    ax.legend(fontsize=15, loc='lower right')\n",
    "\n",
    "    #ax.set_xticklabels(ax.get_xticklabels(), rotation=90)\n",
    "    plt.xticks(rotation=90, ha=\"center\")\n",
    "    plt.tight_layout()\n"
   ]
  },
  {
   "cell_type": "markdown",
   "id": "dada8858",
   "metadata": {},
   "source": [
    "# Show field capacities and wilting point for all Dutch soils (Ondergronden and Bovengronden)"
   ]
  },
  {
   "cell_type": "code",
   "execution_count": null,
   "id": "27bf6a4b",
   "metadata": {},
   "outputs": [],
   "source": [
    "# %% Show field capacities and wilting points\n",
    "    \n",
    "for BO in ['Boverngronden', 'Ondergronden']:\n",
    "    title = f'Veldcapaciteit en Verwelkingspunt van {BO} van de Staringreeks'\n",
    "    ax = etc.newfig(title, 'soil_code', r'$\\theta$')\n",
    "\n",
    "    fcs, wps, codes = [], [], []\n",
    "    for code in [c for c in sNL.Soil.data.index if c.startswith(BO[0])]:\n",
    "        soil = sNL.Soil(code)\n",
    "        codes.append(code)\n",
    "        fcs.append(soil.theta_fc(pF=2.5))\n",
    "        wps.append(soil.theta_wp(pF=4.2))\n",
    "        \n",
    "        i = int(code[1:])\n",
    "        ax.text(int(code[1:]) - 1, 0.15,\n",
    "                soil.props['Omschrijving'], ha='center', rotation=90, fontsize=15, zorder=5,\n",
    "                bbox=dict(facecolor='white',\n",
    "                        alpha=1,\n",
    "                        edgecolor='none'))\n",
    "\n",
    "    ax.plot(codes, np.array(fcs), 'b', label='Veldcapaciteit')\n",
    "    ax.plot(codes, np.array(wps), 'r', label='Verwelkingspunt')\n",
    "    ax.legend(fontsize=15, loc='lower right')\n",
    "\n",
    "    #ax.set_xticklabels(ax.get_xticklabels(), rotation=90)\n",
    "    plt.xticks(rotation=90, ha=\"center\")\n",
    "    plt.tight_layout()"
   ]
  },
  {
   "cell_type": "markdown",
   "id": "3a4acf58",
   "metadata": {},
   "source": [
    "# Show $K(\\theta)$ at field capacity (pF = 2.5)"
   ]
  },
  {
   "cell_type": "code",
   "execution_count": null,
   "id": "79eb4fb4",
   "metadata": {},
   "outputs": [],
   "source": [
    "# %% K(theta) bij veldcapaciteit (pF=2.5)\n",
    "\n",
    "for BO in ['Boverngronden', 'Ondergronden']:\n",
    "    title = f'K(theta) bij Veldcapaciteit van {BO} van de Staringreeks'\n",
    "    ax = etc.newfig(title, 'soil_code', 'K [cm/d]')\n",
    "\n",
    "    soil_codes = [c for c in sNL.Soil.data.index if c.startswith(BO[0])]\n",
    "    \n",
    "    kvalues, codes = [], []\n",
    "    \n",
    "    for i, code in enumerate(soil_codes):\n",
    "        soil = sNL.Soil(code)\n",
    "        codes.append(code)\n",
    "        kvalues.append(soil.K_fr_theta(soil.theta_fc(pF=2.5)))\n",
    "                    \n",
    "        ax.text((i + 1) / (len(soil_codes) + 1), 0.2,\n",
    "                soil.props['Omschrijving'], ha='center', rotation=90, fontsize=15, zorder=5,\n",
    "                bbox=dict(facecolor='white',\n",
    "                        alpha=1,\n",
    "                        edgecolor='none'),\n",
    "                transform=ax.transAxes)\n",
    "        \n",
    "\n",
    "    ax.plot(codes, np.array(kvalues), 'b', label='k bij velccapaciteit')    \n",
    "    ax.legend(fontsize=15, loc='lower right')\n",
    "\n",
    "    #ax.set_xticklabels(ax.get_xticklabels(), rotation=90)\n",
    "    plt.xticks(rotation=90, ha=\"center\")\n",
    "    plt.tight_layout()"
   ]
  },
  {
   "cell_type": "markdown",
   "id": "cb163775",
   "metadata": {},
   "source": [
    "# Get soil_codes of sands of \"Benedengronden\""
   ]
  },
  {
   "cell_type": "code",
   "execution_count": null,
   "id": "1a90493c",
   "metadata": {},
   "outputs": [],
   "source": [
    "# %% Get soil_codes of sands of \"Benedengronden\"\n",
    "\n",
    "soil_codes = sNL.Soil.data.index[sNL.Soil.data.loc[:, 'Hoofdsoort'] == 'Zand']\n",
    "soil_codes = [code for code in soil_codes if code.startswith('B')]\n",
    "print(soil_codes)"
   ]
  },
  {
   "cell_type": "markdown",
   "id": "295db1eb",
   "metadata": {},
   "source": [
    "# Showing the $\\psi(\\theta)$ relation for all soils, each with its field capacity and wilting point.\n",
    "\n",
    "$\\psi(\\theta)$ is verified by also showing (as dots) $\\psi(\\theta(\\psi))$, which must give the same points if $\\\\psi(\\theta)$ and $\\theta(\\psi)$ have been correctly implemented."
   ]
  },
  {
   "cell_type": "code",
   "execution_count": null,
   "id": "ed40b30b",
   "metadata": {},
   "outputs": [],
   "source": [
    "\n",
    "# %% psi(theta)\n",
    "\n",
    "title = r\"$\\psi$ [cm] as a function of $\\theta$, $\\psi(\\theta)$, with field capacity and wilting point\"\n",
    "ax=etc.newfig(title, r'$\\theta$', r'pF = log$_{10}(\\psi$ [cm])', yscale='linear')\n",
    "    \n",
    "clrs = cycle(\"brgkmcy\")\n",
    "for code in soil_codes:\n",
    "    clr = next(clrs)\n",
    "    soil = sNL.Soil(code)\n",
    "    psi = soil.psispace()\n",
    "    theta = soil.theta_fr_psi(psi)\n",
    "    soil_nm = soil.props['Omschrijving']\n",
    "    \n",
    "    pF  = np.log10(psi)\n",
    "    pF1 = np.log10(soil.psi_fr_theta(theta))\n",
    "    ax.plot(theta, pF,  '-', color=clr, label=fr\"$\\psi(\\theta(\\psi))$, {soil_nm}\")\n",
    "    ax.plot(theta, pF1, '.', color=clr, label=fr\"$\\psi(\\theta(\\psi))$, {soil_nm}\")\n",
    "    \n",
    "    # Field capacity and wilting point\n",
    "    pF_fc, pF_wp = 2.5, 4.2\n",
    "    lbl1 = f\"fc[pF={pF_fc}]\" if code.endswith('01') else \"\"\n",
    "    lbl2 = f\"fc[pF={pF_wp}]\" if code.endswith('01') else \"\"\n",
    "    \n",
    "    # Plot field_capacity and wilting_point\n",
    "    ax.plot(soil.theta_fc(pF=pF_fc), pF_fc, 'o', color=clr, label=lbl1)\n",
    "    ax.plot(soil.theta_wp(pF=pF_wp), pF_wp, 's', color=clr, label=lbl2)\n",
    "    \n",
    "ax.legend(title=\"Legenda voor sands Bovengronden\")"
   ]
  },
  {
   "cell_type": "markdown",
   "id": "7839877d",
   "metadata": {},
   "source": [
    "# Show the moisture capacity $d\\theta / d\\psi$ for all selected soils."
   ]
  },
  {
   "cell_type": "code",
   "execution_count": null,
   "id": "f4eb676a",
   "metadata": {},
   "outputs": [],
   "source": [
    "# %% Show dtheta/dpsi for all sands.\n",
    "\n",
    "title = r\"$\\psi(\\theta)$ and $\\psi(\\theta(\\psi))$ for US soils using Van Genughten relations\"\n",
    "ax = etc.newfig(title, r'$\\psi$', r'-d$\\theta$/d$\\psi$ [cm]',\n",
    "                xscale='log', yscale='log')    \n",
    "\n",
    "clrs = cycle('brgkmc')\n",
    "for soil_code in soil_codes:\n",
    "    soil = sNL.Soil(soil_code)\n",
    "    soil_nm = soil.props['Omschrijving']\n",
    "    psi = soil.psispace()\n",
    "    theta = soil.theta_fr_psi(psi)     \n",
    "    clr = next(clrs)\n",
    "    ax.plot(psi, -soil.dtheta_dpsi(psi), '-', color=clr, label=fr'd$\\theta$/d$\\psi$   {soil_nm}')\n",
    "    \n",
    "    # Numeric approximation\n",
    "    dtheta_dpsi = np.diff(theta) / np.diff(psi)\n",
    "    psi_mid = 0.5 * (psi[1:] + psi[:-1])\n",
    "    ax.plot(psi_mid, -dtheta_dpsi,'x', color=clr, label=fr'd$\\theta$/d$\\psi$ numerical, {soil_nm}')\n",
    "    \n",
    "    ax.plot(psi, -1 / soil.dpsi_dtheta(theta),'.', color=clr, label=fr'1 / d$\\psi$/d$\\theta$ {soil_nm}')\n",
    "\n",
    "    print(f\"dpsi_dtheta * dtheta_dpsisoil_nm, {soil_nm}\\n\",\n",
    "          soil.dpsi_dtheta(theta) * soil.dtheta_dpsi(psi))\n",
    "\n",
    "ax.legend(loc='upper right')"
   ]
  },
  {
   "cell_type": "markdown",
   "id": "81b6b180",
   "metadata": {},
   "source": [
    "# Check that $S$ can be computed equally well from $\\psi$ as from $\\theta$\n",
    "\n",
    "Comppute $S(\\psi)$ from $\\psi$\n",
    "\n",
    "$$ S\\left(\\psi\\right)=\\left(1+\\left(\\alpha\\psi\\right)^{n}\\right)^{-m} $$\n",
    "\n",
    "Compute $S(\\theta)$ from $\\theta(\\psi)$\n",
    "\n",
    "$$ S\\left(\\theta\\right)=\\left(1+\\left(\\alpha\\psi(\\theta)\\right)^{n}\\right)^{-m} $$"
   ]
  },
  {
   "cell_type": "code",
   "execution_count": null,
   "id": "08a5d477",
   "metadata": {},
   "outputs": [],
   "source": [
    "psi   = np.logspace(0, 4.2)\n",
    "theta = soil.theta_fr_psi(psi)\n",
    "\n",
    "S_psi   = soil.S_fr_psi(psi)\n",
    "S_theta = soil.S_fr_theta(theta)\n",
    "\n",
    "title = r'Compute $S(\\psi)$ and $S(\\theta(\\psi)), which should be on the same line'\n",
    "ax = etc.newfig(title, r'$\\theta$', r'$S$ (saturation)')\n",
    "\n",
    "ax.plot(theta, S_psi,   '-', label=r'$S(\\psi)$')\n",
    "ax.plot(theta, S_theta, '.', label=r'$S(\\theta(\\psi))$')\n",
    "\n",
    "ax.legend(loc='upper left')\n",
    "\n",
    "title = r'Compute $S(\\psi)$ and $S(\\theta(\\psi)), which should be on the same line'\n",
    "ax = etc.newfig(title, r'$\\psi$', r'$S$ (saturation)')\n",
    "\n",
    "ax.plot(psi, S_psi,   '-', label=r'$S(\\psi)$')\n",
    "ax.plot(psi, S_theta, '.', label=r'$S(\\theta(\\psi))$')\n",
    "\n",
    "ax.legend(loc='upper right')\n",
    "\n",
    "\n",
    "title = r'Compute $S(\\psi)$ and $S(\\theta(\\psi)), which should be on the same line'\n",
    "ax = etc.newfig(title, r'$S$ (saturation)', r'pF')\n",
    "\n",
    "pF = np.log10(psi)\n",
    "ax.plot(S_psi,   pF, '-', label=r'$S(\\psi)$')\n",
    "ax.plot(S_theta, pF, '.', label=r'$S(\\theta(\\psi))$')\n",
    "\n",
    "ax.legend(loc='upper right')"
   ]
  },
  {
   "cell_type": "markdown",
   "id": "db2ba923",
   "metadata": {},
   "source": [
    "# Checking that $dS/d\\psi \\times d\\psi/dS = 1$\n",
    "\n",
    "There was a bug in the module. This is the test. The code computes both explicitly. After which the values are compared with the results from the module/class Soil(SoilBase(ABC))"
   ]
  },
  {
   "cell_type": "code",
   "execution_count": null,
   "id": "0eb6a501",
   "metadata": {},
   "outputs": [],
   "source": [
    "import numpy as np\n",
    "\n",
    "# Parameters\n",
    "soil = sNL.Soil('O01')\n",
    "alpha, n, m = soil.props['alpha'], soil.props['n'], soil.props['m']\n",
    "\n",
    "print(f\"checking m = 1 - 1 / n:  {m == 1 - 1/n}   # Van Genuchten relation\")\n",
    "\n",
    "# Define S(psi)\n",
    "def S_fr_psi(psi):\n",
    "    return (1 + (alpha * psi)**n)**(-m)\n",
    "\n",
    "# dS/dpsi\n",
    "def dS_dpsi(psi):\n",
    "    return -alpha * n * m * (1 + (alpha * psi)**n)**(-m-1) * (alpha * psi)**(n-1)\n",
    "\n",
    "# psi(S)\n",
    "def psi_of_S(S):\n",
    "    return (S**(-1/m) - 1)**(1/n) / alpha\n",
    "\n",
    "# dpsi/dS\n",
    "def dpsi_dS(S):\n",
    "    return -(1/(alpha*n*m)) * (S**(-1/m) - 1)**(1/n - 1) * S**(-1/m - 1)\n",
    "\n",
    "# Test values\n",
    "print(\"\\nCheck the cahtGPT program\\n\")\n",
    "\n",
    "psi = soil.psispace(6)  # avoid zero to prevent singularities\n",
    "\n",
    "print(\"\\nCompare S_fr_psi, soil.S_fr_psi\\n\")\n",
    "\n",
    "S1 =      S_fr_psi(psi)    \n",
    "S2 = soil.S_fr_psi(psi)\n",
    "\n",
    "print(S1)\n",
    "print(S2)\n",
    "\n",
    "print(\"\\nCompare dpsi_dS, soil.dpsi_dS\\n\")\n",
    "\n",
    "dpdS1 =      dpsi_dS(S1)\n",
    "dpdS2 = soil.dpsi_dS(S1)\n",
    "\n",
    "print(dpdS1)\n",
    "print(dpdS2)\n",
    "\n",
    "print(\"\\nCompare dS_dpsi, soil.dS_dpsi\\n\")\n",
    "\n",
    "dSdp1 =      dS_dpsi(psi)\n",
    "dSdp2 = soil.dS_dpsi(psi)\n",
    "\n",
    "print(dSdp1)\n",
    "print(dSdp2)\n",
    "\n",
    "print(\"\\nCompare dpsi_dS * dS_dpsi\\n\")\n",
    "    \n",
    "lhs1 =      dpsi_dS(S1) *      dS_dpsi(psi)\n",
    "lhs2 = soil.dpsi_dS(S1) * soil.dS_dpsi(psi)\n",
    "\n",
    "print(lhs1)\n",
    "print(lhs2)\n",
    "\n"
   ]
  },
  {
   "cell_type": "markdown",
   "id": "fdcdecea",
   "metadata": {},
   "source": [
    "# Show $d\\psi/dS \\times dS/d\\theta$ and $d\\psi/d\\theta$"
   ]
  },
  {
   "cell_type": "code",
   "execution_count": null,
   "id": "cd4d25cd",
   "metadata": {},
   "outputs": [],
   "source": [
    "#soil.dpsi_dtheta(theta) * soil.dtheta_dpsi(psi)\n",
    "psi = soil.psispace()\n",
    "S   = soil.S_fr_psi(psi)\n",
    "theta = soil.theta_fr_S(S)\n",
    "\n",
    "soil_nm = soil.props['Omschrijving']\n",
    "ttl = f\"Soil {soil.code}: {soil_nm}\\n\"\n",
    "title = ttl + \"dS/dpsi as a function of S\"\n",
    "ax = etc.newfig(title, 'S', 'dpsi/dS')\n",
    "\n",
    "ax.plot(S, soil.dpsi_dS(S) * soil.dS_dtheta(theta), '-', label=r'd$\\psi$/d$S \\times $d$S$/d$\\theta$)')\n",
    "ax.plot(S, soil.dpsi_dtheta(theta), '.', label=r'd$\\psi$/d$\\theta$')\n",
    "ax.plot(S, 1 / soil.dtheta_dpsi(psi), 'o', mfc='none', label=r'1 / (d$\\theta$/d$\\psi$)')\n",
    "\n",
    "\n",
    "ax.legend()"
   ]
  },
  {
   "cell_type": "markdown",
   "id": "f8d6d446",
   "metadata": {},
   "source": [
    "# $K(\\theta)$ and $dK/d\\theta$\n",
    "\n",
    "Below the hydraulic conductivity $K(\\theta)$ vs $\\theta$ and $dK(\\thetea)/d\\theta$is shown for all Dutch soils."
   ]
  },
  {
   "cell_type": "code",
   "execution_count": null,
   "id": "7a7cfe11",
   "metadata": {},
   "outputs": [],
   "source": [
    "# %% K(theta) and dK/dtheta\n",
    "\n",
    "for BO in ['Bovengronden', 'Ondergronden']:\n",
    "    clrs = cycle('brgkmc')\n",
    "\n",
    "    title=fr\"$K$ [cm/d] versus $\\theta$ voor {BO}\"\n",
    "    ax = etc.newfig(title, r'$\\theta$', r'$K(\\theta)$',\n",
    "                yscale='log') #, ylim=(1e-7, 1e0))\n",
    "\n",
    "    soil_codes = [c for c in sNL.Soil.data.index if c.startswith(BO[0])]\n",
    "\n",
    "    for i, code in enumerate(soil_codes):\n",
    "        if i == 8:\n",
    "            break\n",
    "        clr = next(clrs)\n",
    "        soil = sNL.Soil(code)\n",
    "        soil_nm = soil.props['Omschrijving']\n",
    "        psi = soil.psispace()\n",
    "        theta = soil.theta_fr_psi(psi)\n",
    "        ax.plot(theta, soil.K_fr_theta(theta), '-', color=clr, label=fr\"{code}: $K(\\theta)$ {soil_nm}\")\n",
    "        ax.plot(theta, soil.dK_dtheta(theta), '--', color=clr, label=fr\"{code}: d$K$/d$\\theta)$ {soil_nm}\")\n",
    "    ax.legend(loc='lower right')"
   ]
  },
  {
   "cell_type": "markdown",
   "id": "016501df",
   "metadata": {},
   "source": [
    "# Show throttle functions\n",
    "\n",
    "Throttle functions can be used by the a root zone model to reduces effective ET when the root zone dries out.\n",
    "\n",
    "Four functions can be used:\n",
    "\n",
    "* According to Feddes (not smooth)\n",
    "* A smooth function, essentially the same as Feddes, but differentiable\n",
    "* A k-based function according to Mualem. (Declines too fast)\n",
    "* A blend function between Feddes and Mualem.\n",
    "\n",
    "All four function also reduce ET when the soil becomes too wet (psi < 25 cm)"
   ]
  },
  {
   "cell_type": "code",
   "execution_count": null,
   "id": "3a9825ed",
   "metadata": {},
   "outputs": [],
   "source": [
    "\n",
    "# %% Show the throttle function to throttle ET depending on theta\n",
    "soil = sand_o\n",
    "soil_nm = soil.props['Omschrijving']\n",
    "title = f\"Throttle functions(theta) for ET  for soil {soil.code}: {soil.props['Omschrijving']}\"\n",
    "ax = etc.newfig(title, r\"$\\theta$\", r\"throttle $\\alpha(\\theta)$\")\n",
    "\n",
    "\n",
    "theta = np.linspace(soil.props['theta_r'], soil.props['theta_s'], 200)\n",
    "\n",
    "# ax.plot(theta, soil.alpha_wet(theta), label=r'alpha_wett')\n",
    "ax.plot(theta, soil.feddes_alpha(theta), label='feddes_alpha')\n",
    "ax.plot(theta, soil.smooth_alpha(theta), label='smooth_alpha')\n",
    "beta = 1.0\n",
    "for w in [0.1, 0.25, 0.5, 0.75, 1.0]:\n",
    "    ax.plot(theta, soil.alpha_dry_blend(theta, beta=beta, w=w), '-.',\n",
    "        label=f'alpha_dry_blend, beta={beta}, w={w}')\n",
    "for beta in [1.0]:\n",
    "        ax.plot(theta, soil.mualem_alpha(theta, beta=beta), '.-', label=f'mualem_alpha, beta={beta}')\n",
    "ax.legend()\n",
    "plt.show()"
   ]
  },
  {
   "cell_type": "markdown",
   "id": "8964ec62",
   "metadata": {},
   "source": [
    "# Impulse resonses IR and IR_PIII\n",
    "\n",
    "* The IR is the analytic impulse response.\n",
    "* The IR_PIII the Pearson III impulse response (method of moments)"
   ]
  },
  {
   "cell_type": "code",
   "execution_count": null,
   "id": "1c9775a0",
   "metadata": {},
   "outputs": [],
   "source": [
    "# %% Compute the Impulse Response\n",
    "\n",
    "q_avg = .2 # cm/d\n",
    "t = np.linspace(0, 750, 751)[1:]\n",
    "\n",
    "soil = sNL.Soil(\"B03\")\n",
    "soil_nm = soil.props['Omschrijving']\n",
    "v, D = soil.get_vD(q_avg)\n",
    "\n",
    "ttl = f\"Soil {soil.code}: {soil_nm}\\n\"\n",
    "title = ttl + f\"Impulse Response for q_avg={q_avg:.3g} m/d, v={v:.3g}, D={D:.3g} m2/d\"\n",
    "ax = etc.newfig(title, 't', 'unit response')\n",
    "\n",
    "clrs = cycle('rbgkmc')\n",
    "for z in [150, 300, 500, 750, 1000, 2000, 3000]: # z in cm\n",
    "    clr = next(clrs)\n",
    "    ax.plot(t, soil.IR(z, t, q_avg), '-', color=clr, label=f'IR, soil={soil_nm}, z={z:.0f} cm')\n",
    "    ax.plot(t, soil.IR_PIII(z, t, q_avg), '--', color=clr, label=f'IR_PIII, soil={soil_nm}, z={z:.0f} cm')\n",
    "ax.legend(loc='best')\n",
    "# plt.show()"
   ]
  },
  {
   "cell_type": "markdown",
   "id": "7c73f42a",
   "metadata": {},
   "source": [
    "# Step resonses SR_phi, SR_erfc, SR_PIII\n",
    "\n",
    "* SR_phi is exact solution using cumulative normal distributions\n",
    "* SR_erfc is exact solution using erfc and exp functions\n",
    "* SR_PIII is integration of the Pearson III impulse response (method of moments)"
   ]
  },
  {
   "cell_type": "code",
   "execution_count": null,
   "id": "6ded12bf",
   "metadata": {},
   "outputs": [],
   "source": [
    "# %% Compute the analytic Step Response\n",
    "\n",
    "q_avg = .2 # cm/d\n",
    "t = np.linspace(0, 750, 751)[1:]\n",
    "\n",
    "soil = sNL.Soil(\"B03\")  # Sand\n",
    "soil_nm = soil.props['Omschrijving']\n",
    "\n",
    "ttl = f\"Soil {soil.code}: {soil_nm}\\n\"\n",
    "title = ttl + f\"Step Response for q_avg={q_avg:.3g} m/d, v={v:.3g}, D={D:.3g} m2/d\"\n",
    "ax = etc.newfig(title, 't', 'unit response')\n",
    "\n",
    "clrs = cycle('rbgkmc')\n",
    "for z in [150, 300, 500, 750, 1000, 2000, 3000]: # z in cm\n",
    "    clr = next(clrs)\n",
    "    ax.plot(t, soil.SR_Phi(z, t, q_avg), 'x', label=f'{soil_nm}, z={z:.0f} cm, IR_Phi')\n",
    "    ax.plot(t, soil.SR_erfc(z, t, q_avg), '.', label=f'{soil_nm}, z={z:.0f} cm, IR_erfc')\n",
    "    ax.plot(t, soil.SR_PIII(z, t, q_avg), label=f'{soil_nm}, z={z:.0f} cm, method of moments')\n",
    "        \n",
    "ax.legend(loc='best')\n",
    "# plt.show()"
   ]
  },
  {
   "cell_type": "markdown",
   "id": "83e7f1eb",
   "metadata": {},
   "source": [
    "# BLock resonses ($d\\tau = 1$ d) BR_phi, BR_erfc, BR_PIII\n",
    "\n",
    "* BR_phi is exact solution using cumulative normal distributions\n",
    "* BR_erfc is exact solution using erfc and exp functions\n",
    "* BR_PIII is integration of the Pearson III impuls response (method of moments)"
   ]
  },
  {
   "cell_type": "code",
   "execution_count": null,
   "id": "45161624",
   "metadata": {},
   "outputs": [],
   "source": [
    "# %% Compute the Block Response\n",
    "\n",
    "q_avg = 0.2 # cm/d\n",
    "t = np.linspace(0, 750, 751)[1:]\n",
    "\n",
    "soil = sNL.Soil(\"B03\")\n",
    "soil_nm = soil.props['Omschrijving']\n",
    "v, D = soil.get_vD(q_avg)\n",
    "\n",
    "ttl = f\"Soil {soil.code}: {soil_nm}\\n\"\n",
    "title = ttl + f\"Block Response for q_avg={q_avg:.3g} m/d, v={v:.3g}, D={D:.3g} m2/d\"\n",
    "ax = etc.newfig(title, 't', 'unit response')\n",
    "\n",
    "clrs = cycle('rbgkmc')\n",
    "for z in [150, 300, 500, 750, 1000, 2000, 3000]: # z in cm\n",
    "    clr = next(clrs)\n",
    "    for soil_nm in ['sand']:\n",
    "        ax.plot(t, soil.BR(soil.SR_Phi, z, t, q_avg),  '-', label=f'soil_nm, z={z:.0f} cm, BR_phi')\n",
    "        ax.plot(t, soil.BR(soil.SR_erfc, z, t, q_avg), '.', label=f'soil_nm, z={z:.0f} cm, BR_erfc')                         \n",
    "        ax.plot(t, soil.BR(soil.SR_PIII, z, t, q_avg), '+', label=f'soil_nm, z={z:.0f} cm, BR_mom')\n",
    "        \n",
    "ax.legend(loc='best')\n",
    "plt.show()\n"
   ]
  },
  {
   "cell_type": "code",
   "execution_count": null,
   "id": "3e1153d9",
   "metadata": {},
   "outputs": [],
   "source": [
    "S = np.logspace(-4, 1)\n",
    "ax = etc.newfig('Test to see if K is monotonically rising with S', 'S', 'K', yscale='log')\n",
    "for soil_code in sNL.Soil.data.index:\n",
    "    soil = sNL.Soil(soil_code)\n",
    "    ax.plot(S, soil.K_fr_S(S), label=f'{soil_code}: {soil.props['Omschrijving']}')\n",
    "ax.legend()"
   ]
  },
  {
   "cell_type": "code",
   "execution_count": 9,
   "id": "08d2af63",
   "metadata": {},
   "outputs": [
    {
     "ename": "ValueError",
     "evalue": "`x` must be strictly increasing sequence.",
     "output_type": "error",
     "traceback": [
      "\u001b[0;31m---------------------------------------------------------------------------\u001b[0m",
      "\u001b[0;31mValueError\u001b[0m                                Traceback (most recent call last)",
      "Cell \u001b[0;32mIn[9], line 19\u001b[0m\n\u001b[1;32m     16\u001b[0m S \u001b[38;5;241m=\u001b[39m np\u001b[38;5;241m.\u001b[39mlogspace(\u001b[38;5;241m-\u001b[39m\u001b[38;5;241m4\u001b[39m, \u001b[38;5;241m0\u001b[39m)\n\u001b[1;32m     18\u001b[0m \u001b[38;5;28;01mfor\u001b[39;00m code \u001b[38;5;129;01min\u001b[39;00m sNL\u001b[38;5;241m.\u001b[39mSoil\u001b[38;5;241m.\u001b[39mdata\u001b[38;5;241m.\u001b[39mindex:\n\u001b[0;32m---> 19\u001b[0m     soil \u001b[38;5;241m=\u001b[39m \u001b[43msNL\u001b[49m\u001b[38;5;241;43m.\u001b[39;49m\u001b[43mSoil\u001b[49m\u001b[43m(\u001b[49m\u001b[43mcode\u001b[49m\u001b[43m)\u001b[49m\n\u001b[1;32m     20\u001b[0m     Ks, n, m, lambda_, alpha \u001b[38;5;241m=\u001b[39m soil\u001b[38;5;241m.\u001b[39mprops[\u001b[38;5;124m'\u001b[39m\u001b[38;5;124mKs\u001b[39m\u001b[38;5;124m'\u001b[39m], soil\u001b[38;5;241m.\u001b[39mprops[\u001b[38;5;124m'\u001b[39m\u001b[38;5;124mn\u001b[39m\u001b[38;5;124m'\u001b[39m], soil\u001b[38;5;241m.\u001b[39mprops[\u001b[38;5;124m'\u001b[39m\u001b[38;5;124mm\u001b[39m\u001b[38;5;124m'\u001b[39m], soil\u001b[38;5;241m.\u001b[39mprops[\u001b[38;5;124m'\u001b[39m\u001b[38;5;124mlambda\u001b[39m\u001b[38;5;124m'\u001b[39m], soil\u001b[38;5;241m.\u001b[39mprops[\u001b[38;5;124m'\u001b[39m\u001b[38;5;124malpha\u001b[39m\u001b[38;5;124m'\u001b[39m]\n\u001b[1;32m     21\u001b[0m     k \u001b[38;5;241m=\u001b[39m K_Heinen(S, Ks, n, m, lambda_)\n",
      "File \u001b[0;32m~/GRWMODELS/python/tools/Stromingen/Munsflow_H2O_1995/src/NL_soils.py:59\u001b[0m, in \u001b[0;36mSoil.__init__\u001b[0;34m(self, soil_code, HBW)\u001b[0m\n\u001b[1;32m     56\u001b[0m \u001b[38;5;28mself\u001b[39m\u001b[38;5;241m.\u001b[39mHBW \u001b[38;5;241m=\u001b[39m HBW\n\u001b[1;32m     58\u001b[0m \u001b[38;5;66;03m# Interpolator to get S given K\u001b[39;00m\n\u001b[0;32m---> 59\u001b[0m \u001b[38;5;28mself\u001b[39m\u001b[38;5;241m.\u001b[39mS_fr_K  \u001b[38;5;241m=\u001b[39m \u001b[38;5;28;43mself\u001b[39;49m\u001b[38;5;241;43m.\u001b[39;49m\u001b[43mS_fr_K_interpolator\u001b[49m\u001b[43m(\u001b[49m\u001b[43mS_limit\u001b[49m\u001b[38;5;241;43m=\u001b[39;49m\u001b[38;5;241;43m1e-12\u001b[39;49m\u001b[43m)\u001b[49m\n",
      "File \u001b[0;32m~/GRWMODELS/python/tools/Stromingen/Munsflow_H2O_1995/src/soil_base.py:430\u001b[0m, in \u001b[0;36mSoilBase.S_fr_K_interpolator\u001b[0;34m(self, S_limit)\u001b[0m\n\u001b[1;32m    428\u001b[0m S \u001b[38;5;241m=\u001b[39m np\u001b[38;5;241m.\u001b[39mlogspace(np\u001b[38;5;241m.\u001b[39mlog10(S_limit), \u001b[38;5;241m0\u001b[39m)\n\u001b[1;32m    429\u001b[0m k \u001b[38;5;241m=\u001b[39m \u001b[38;5;28mself\u001b[39m\u001b[38;5;241m.\u001b[39mK_fr_S(S, S_limit\u001b[38;5;241m=\u001b[39mS_limit)\n\u001b[0;32m--> 430\u001b[0m \u001b[38;5;28;01mreturn\u001b[39;00m \u001b[43mPchipInterpolator\u001b[49m\u001b[43m(\u001b[49m\u001b[43mk\u001b[49m\u001b[43m,\u001b[49m\u001b[43m \u001b[49m\u001b[43mS\u001b[49m\u001b[43m)\u001b[49m\n",
      "File \u001b[0;32m/Library/Frameworks/Python.framework/Versions/3.12/lib/python3.12/site-packages/scipy/interpolate/_cubic.py:234\u001b[0m, in \u001b[0;36mPchipInterpolator.__init__\u001b[0;34m(self, x, y, axis, extrapolate)\u001b[0m\n\u001b[1;32m    233\u001b[0m \u001b[38;5;28;01mdef\u001b[39;00m \u001b[38;5;21m__init__\u001b[39m(\u001b[38;5;28mself\u001b[39m, x, y, axis\u001b[38;5;241m=\u001b[39m\u001b[38;5;241m0\u001b[39m, extrapolate\u001b[38;5;241m=\u001b[39m\u001b[38;5;28;01mNone\u001b[39;00m):\n\u001b[0;32m--> 234\u001b[0m     x, _, y, axis, _ \u001b[38;5;241m=\u001b[39m \u001b[43mprepare_input\u001b[49m\u001b[43m(\u001b[49m\u001b[43mx\u001b[49m\u001b[43m,\u001b[49m\u001b[43m \u001b[49m\u001b[43my\u001b[49m\u001b[43m,\u001b[49m\u001b[43m \u001b[49m\u001b[43maxis\u001b[49m\u001b[43m)\u001b[49m\n\u001b[1;32m    235\u001b[0m     xp \u001b[38;5;241m=\u001b[39m x\u001b[38;5;241m.\u001b[39mreshape((x\u001b[38;5;241m.\u001b[39mshape[\u001b[38;5;241m0\u001b[39m],) \u001b[38;5;241m+\u001b[39m (\u001b[38;5;241m1\u001b[39m,)\u001b[38;5;241m*\u001b[39m(y\u001b[38;5;241m.\u001b[39mndim\u001b[38;5;241m-\u001b[39m\u001b[38;5;241m1\u001b[39m))\n\u001b[1;32m    236\u001b[0m     dk \u001b[38;5;241m=\u001b[39m \u001b[38;5;28mself\u001b[39m\u001b[38;5;241m.\u001b[39m_find_derivatives(xp, y)\n",
      "File \u001b[0;32m/Library/Frameworks/Python.framework/Versions/3.12/lib/python3.12/site-packages/scipy/interpolate/_cubic.py:61\u001b[0m, in \u001b[0;36mprepare_input\u001b[0;34m(x, y, axis, dydx)\u001b[0m\n\u001b[1;32m     59\u001b[0m dx \u001b[38;5;241m=\u001b[39m np\u001b[38;5;241m.\u001b[39mdiff(x)\n\u001b[1;32m     60\u001b[0m \u001b[38;5;28;01mif\u001b[39;00m np\u001b[38;5;241m.\u001b[39many(dx \u001b[38;5;241m<\u001b[39m\u001b[38;5;241m=\u001b[39m \u001b[38;5;241m0\u001b[39m):\n\u001b[0;32m---> 61\u001b[0m     \u001b[38;5;28;01mraise\u001b[39;00m \u001b[38;5;167;01mValueError\u001b[39;00m(\u001b[38;5;124m\"\u001b[39m\u001b[38;5;124m`x` must be strictly increasing sequence.\u001b[39m\u001b[38;5;124m\"\u001b[39m)\n\u001b[1;32m     63\u001b[0m y \u001b[38;5;241m=\u001b[39m np\u001b[38;5;241m.\u001b[39mmoveaxis(y, axis, \u001b[38;5;241m0\u001b[39m)\n\u001b[1;32m     64\u001b[0m \u001b[38;5;28;01mif\u001b[39;00m dydx \u001b[38;5;129;01mis\u001b[39;00m \u001b[38;5;129;01mnot\u001b[39;00m \u001b[38;5;28;01mNone\u001b[39;00m:\n",
      "\u001b[0;31mValueError\u001b[0m: `x` must be strictly increasing sequence."
     ]
    }
   ],
   "source": [
    "import numpy as np\n",
    "import matplotlib.pyplot as plt\n",
    "\n",
    "# Soil parameters (B06 Keileem)\n",
    "Ks = 104.1\n",
    "n = 1.242\n",
    "m = 1 - 1/n  # ~0.5377\n",
    "lambda_ = -1.2\n",
    "alpha = 0.0209\n",
    "\n",
    "def K_Heinen(S, Ks, n, m, lambda_):\n",
    "    S = np.atleast_1d(S)\n",
    "    term = (S**(-1/m) - 1)**(1 - 1/n)\n",
    "    return Ks * S**(lambda_ + 2) * (S**-1 - term)**2\n",
    "\n",
    "S = np.logspace(-4, 0)\n",
    "\n",
    "for code in sNL.Soil.data.index:\n",
    "    soil = sNL.Soil(code)\n",
    "    Ks, n, m, lambda_, alpha = soil.props['Ks'], soil.props['n'], soil.props['m'], soil.props['lambda'], soil.props['alpha']\n",
    "    k = K_Heinen(S, Ks, n, m, lambda_)\n",
    "    if not np.all(np.diff(k) > 0):\n",
    "        raise ValueError(f\"{code} k not monotonic\")\n",
    "print(k)\n",
    "print(np.all(np.diff(k)) > 0)"
   ]
  },
  {
   "cell_type": "code",
   "execution_count": 8,
   "id": "f9ed6279",
   "metadata": {},
   "outputs": [
    {
     "data": {
      "text/plain": [
       "array([1, 2, 3, 4, 4, 5, 6])"
      ]
     },
     "execution_count": 8,
     "metadata": {},
     "output_type": "execute_result"
    }
   ],
   "source": [
    "np.maximum.accumulate([1, 2,3, 4, 3, 5, 6])"
   ]
  },
  {
   "cell_type": "code",
   "execution_count": null,
   "id": "cbe9b3d8",
   "metadata": {},
   "outputs": [],
   "source": []
  }
 ],
 "metadata": {
  "kernelspec": {
   "display_name": "Python 3",
   "language": "python",
   "name": "python3"
  },
  "language_info": {
   "codemirror_mode": {
    "name": "ipython",
    "version": 3
   },
   "file_extension": ".py",
   "mimetype": "text/x-python",
   "name": "python",
   "nbconvert_exporter": "python",
   "pygments_lexer": "ipython3",
   "version": "3.12.2"
  }
 },
 "nbformat": 4,
 "nbformat_minor": 5
}
