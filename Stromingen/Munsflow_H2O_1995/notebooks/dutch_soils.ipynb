{
 "cells": [
  {
   "cell_type": "code",
   "execution_count": null,
   "id": "55fd38cb",
   "metadata": {},
   "outputs": [
    {
     "ename": "ModuleNotFoundError",
     "evalue": "No module named 'dutch_soils'",
     "output_type": "error",
     "traceback": [
      "\u001b[0;31m---------------------------------------------------------------------------\u001b[0m",
      "\u001b[0;31mModuleNotFoundError\u001b[0m                       Traceback (most recent call last)",
      "Cell \u001b[0;32mIn[1], line 8\u001b[0m\n\u001b[1;32m      5\u001b[0m \u001b[38;5;28;01mfrom\u001b[39;00m \u001b[38;5;21;01mitertools\u001b[39;00m \u001b[38;5;28;01mimport\u001b[39;00m cycle\n\u001b[1;32m      6\u001b[0m \u001b[38;5;28;01mimport\u001b[39;00m \u001b[38;5;21;01metc\u001b[39;00m\n\u001b[0;32m----> 8\u001b[0m \u001b[38;5;28;01mimport\u001b[39;00m \u001b[38;5;21;01mdutch_soils\u001b[39;00m \u001b[38;5;28;01mas\u001b[39;00m \u001b[38;5;21;01mds\u001b[39;00m\n",
      "\u001b[0;31mModuleNotFoundError\u001b[0m: No module named 'dutch_soils'"
     ]
    }
   ],
   "source": [
    "import os\n",
    "import numpy as np\n",
    "import matplotlib.pyplot as plt\n",
    "import pandas as pd\n",
    "from itertools import cycle\n",
    "import etc\n",
    "\n",
    "import sys\n",
    "sys.path.append(\"../src\")\n",
    "\n",
    "import Stromingen.Munsflow_H2O_1995.src.dutch_soils as ds"
   ]
  },
  {
   "cell_type": "code",
   "execution_count": null,
   "id": "0bb62ef2",
   "metadata": {},
   "outputs": [],
   "source": [
    "dirs = etc.Dirs('~/GRWMODELS/python/tools/Stromingen/Munsflow_H2O_1995')"
   ]
  },
  {
   "cell_type": "code",
   "execution_count": null,
   "id": "a83b5dcb",
   "metadata": {},
   "outputs": [],
   "source": [
    "wbook = os.path.join(dirs.data, 'VG_soilprops.xlsx')\n",
    "ds.Soil.load_soils(wbook) # load once\n",
    "ds.Soil.pretty_data()\n",
    "sand_b = ds.Soil(\"O01\")\n",
    "sand_o = ds.Soil(\"B01\")"
   ]
  },
  {
   "cell_type": "code",
   "execution_count": null,
   "id": "ed40b30b",
   "metadata": {},
   "outputs": [],
   "source": [
    "# %% psi(theta)\n",
    "fig, ax = plt.subplots(figsize=(10, 6))\n",
    "ax.set(title=r\"$\\psi(\\theta)$\", xlabel=r'$\\theta$', ylabel=r'$\\psi$ [cm]')\n",
    "ax.set_yscale('log')\n",
    "ax.grid(True)\n",
    "\n",
    "clrs = cycle(\"brgkmcy\")\n",
    "for code in ds.Soil.data.index:\n",
    "    clr = next(clrs)\n",
    "    soil = ds.Soil(code)\n",
    "    if soil.props['Hoofdsoort'] != 'Zand':\n",
    "        continue\n",
    "    theta = np.linspace(soil.props['theta_r'], soil.props['theta_s'])[1:-1]\n",
    "    label=f\"soil[{code}]:  {soil.props['Omschrijving']}\" if code.endswith('01') else \"\"\n",
    "    ax.plot(theta, soil.psi_fr_theta(theta), color=clr, label=label)\n",
    "    \n",
    "    pF_fc, pF_wp = 2.5, 4.2\n",
    "    lbl1 = f\"fc[pF={pF_fc}]\" if code.endswith('01') else \"\"\n",
    "    lbl2 = f\"fc[pF={pF_wp}]\" if code.endswith('01') else \"\"\n",
    "    ax.plot(soil.theta_fc(pF=pF_fc), 10 ** pF_fc, 'o', color=clr, label=lbl1)\n",
    "    ax.plot(soil.theta_wp(pF=pF_wp), 10 ** pF_wp, 's', color=clr, label=lbl2)\n",
    "ax.legend(title=\"Legenda voor alleen B01 en O01\")"
   ]
  },
  {
   "cell_type": "code",
   "execution_count": null,
   "id": "9e3f7895",
   "metadata": {},
   "outputs": [],
   "source": [
    "# %% psi(theta)\n",
    "fig, ax = plt.subplots(figsize=(10, 6))\n",
    "ax.set(title=\"retention curves for sand_b\", xlabel='theta', ylabel='pF [log(cm)]')\n",
    "ax.set_yscale('log')\n",
    "ax.grid(which='both')\n",
    "\n",
    "theta = np.linspace(sand_b.props['theta_r'], sand_b.props['theta_s'], 100)\n",
    "psi = np.logspace(0, 4.2, 100)\n",
    "\n",
    "ax.plot(sand_b.theta_fr_psi(psi), psi, label=\"theta fr psi\")\n",
    "ax.plot(theta, sand_b.psi_fr_theta(theta), '.', label=\"psi fr theta\")\n",
    "ax.legend()"
   ]
  },
  {
   "cell_type": "code",
   "execution_count": null,
   "id": "7a7cfe11",
   "metadata": {},
   "outputs": [],
   "source": [
    "# %% K(theta)\n",
    "fig, ax = plt.subplots(figsize=(10, 6))\n",
    "ax.set(title=r\"$K$ versus $\\theta$\", xlabel=r'$\\theta$', ylabel=r'$K(\\theta)$')\n",
    "ax.set_yscale('log')\n",
    "ax.grid(True)\n",
    "\n",
    "for code in ds.Soil.data.index:\n",
    "    soil = ds.Soil(code)\n",
    "    if soil.props['Hoofdsoort'].lower() != 'zand':\n",
    "        continue\n",
    "    theta = np.linspace(soil.props['theta_r'], soil.props['theta_s'])[1:-1]\n",
    "    ax.plot(theta, soil.K(theta), label=f\"soil[{code}]: {soil.props['Omschrijving']}\")\n",
    "ax.legend()"
   ]
  },
  {
   "cell_type": "code",
   "execution_count": null,
   "id": "06851422",
   "metadata": {},
   "outputs": [],
   "source": [
    "# %% K(theta)\n",
    "fig, ax = plt.subplots(figsize=(10, 6))\n",
    "ax.set(title=r\"$dK/d\\theta$\", xlabel=r'$\\theta$', ylabel=r'$dK/d\\theta$')\n",
    "ax.set_yscale('log')\n",
    "ax.set_yscale('linear')\n",
    "ax.grid(True)\n",
    "\n",
    "theta = np.linspace(sand_b.props['theta_r'], sand_b.props['theta_s'], 100)[1:-1]\n",
    "\n",
    "d = 1e-3\n",
    "dkdtheta_num = (sand_b.K(theta + d) - sand_b.K(theta - d)) / (2 * d)\n",
    "\n",
    "ax.plot(theta, sand_b.dK_dtheta(theta), label=\"analytical\")\n",
    "ax.plot(theta, dkdtheta_num, '.', label=\"numeric\")\n",
    "ax.legend()"
   ]
  },
  {
   "cell_type": "code",
   "execution_count": null,
   "id": "7c30502e",
   "metadata": {},
   "outputs": [],
   "source": [
    "# %% Show field capacities and wilting points\n",
    "for BO in ['Boverngronden', 'Ondergronden']:\n",
    "    title = f'Veldcapaciteit en Verwelkingspunt van {BO} van de Staringreeks'\n",
    "    xlabel = 'soil code'\n",
    "    ylabel = r'$\\theta$'\n",
    "    ax = etc.newfig(title, xlabel, ylabel)\n",
    "\n",
    "    fcs, wps, codes = [], [], []\n",
    "    for code in [c for c in ds.Soil.data.index if c.startswith(BO[0])]:\n",
    "        soil = ds.Soil(code)\n",
    "        codes.append(code)\n",
    "        fcs.append(soil.theta_fc())\n",
    "        wps.append(soil.theta_wp())\n",
    "        \n",
    "        i = int(code[1:])\n",
    "        ax.text(int(code[1:]) - 1, 0.15,\n",
    "                soil.props['Omschrijving'], ha='center', rotation=90, fontsize=15, zorder=5,\n",
    "                bbox=dict(facecolor='white',\n",
    "                        alpha=1,\n",
    "                        edgecolor='none'))\n",
    "\n",
    "    ax.plot(codes, np.array(fcs), 'b', label='Veldcapaciteit')\n",
    "    ax.plot(codes, np.array(wps), 'r', label='Verwelkingspunt')\n",
    "    ax.legend(fontsize=15, loc='lower right')\n",
    "\n",
    "    #ax.set_xticklabels(ax.get_xticklabels(), rotation=90)\n",
    "    plt.xticks(rotation=90, ha=\"center\")\n",
    "    plt.tight_layout()"
   ]
  },
  {
   "cell_type": "code",
   "execution_count": null,
   "id": "2f8e4fa3",
   "metadata": {},
   "outputs": [],
   "source": [
    "# %% K(theta) bij veldcapaciteit (pF=2.5)\n",
    "for BO in ['Boverngronden', 'Ondergronden']:\n",
    "    title = f'K(theta) bij Veldcapaciteit van {BO} van de Staringreeks'\n",
    "    xlabel = 'soil code'\n",
    "    ylabel = 'K [cm/d]$'\n",
    "    ax = etc.newfig(title, xlabel, ylabel)\n",
    "\n",
    "    fcs, wps, kvalues, codes = [], [], [], []\n",
    "    for code in [c for c in ds.Soil.data.index if c.startswith(BO[0])]:\n",
    "        soil = ds.Soil(code)\n",
    "        codes.append(code)\n",
    "        K = soil.K(soil.theta_fc(pF=2.5))\n",
    "        kvalues.append(K)\n",
    "        \n",
    "        i = int(code[1:])\n",
    "        ax.text(int(code[1:]) - 1, 0.01,\n",
    "                soil.props['Omschrijving'], ha='center', rotation=90, fontsize=15, zorder=5,\n",
    "                bbox=dict(facecolor='white',\n",
    "                        alpha=1,\n",
    "                        edgecolor='none'))\n",
    "\n",
    "    ax.plot(codes, np.array(kvalues), 'b', label='k bij velccapaciteit')    \n",
    "    ax.legend(fontsize=15, loc='lower right')\n",
    "\n",
    "    #ax.set_xticklabels(ax.get_xticklabels(), rotation=90)\n",
    "    plt.xticks(rotation=90, ha=\"center\")\n",
    "    plt.tight_layout()"
   ]
  },
  {
   "cell_type": "code",
   "execution_count": null,
   "id": "db3cfad2",
   "metadata": {},
   "outputs": [],
   "source": [
    "# %% Show the throttle function to throttle ET depending on theta\n",
    "soil = sand_o\n",
    "\n",
    "title = f\"Throttle functions(theta) for ET  for soil {soil.props['Omschrijving']}\"\n",
    "ax = etc.newfig(title, r\"$\\theta$\", r\"throttle $\\alpha(\\theta)$\")\n",
    "\n",
    "theta = np.linspace(soil.props['theta_r'], soil.props['theta_s'], 200)\n",
    "\n",
    "# ax.plot(theta, soil.alpha_wet(theta), label=r'alpha_wett')\n",
    "ax.plot(theta, soil.feddes_alpha(theta), label='feddes_alpha')\n",
    "ax.plot(theta, soil.smooth_alpha(theta), label='smooth_alpha')\n",
    "beta = 1.0\n",
    "for w in [0.1, 0.25, 0.5, 0.75, 1.0]:\n",
    "    ax.plot(theta, soil.alpha_dry_blend(theta, beta=beta, w=w), '-.',\n",
    "        label=f'alpha_dry_blend, beta={beta}, w={w}')\n",
    "for beta in [1.0]:\n",
    "        ax.plot(theta, soil.mualem_alpha(theta, beta=beta), '.-', label=f'mualem_alpha, beta={beta}')\n",
    "ax.legend()\n",
    "plt.show()"
   ]
  }
 ],
 "metadata": {
  "kernelspec": {
   "display_name": "Python 3",
   "language": "python",
   "name": "python3"
  },
  "language_info": {
   "codemirror_mode": {
    "name": "ipython",
    "version": 3
   },
   "file_extension": ".py",
   "mimetype": "text/x-python",
   "name": "python",
   "nbconvert_exporter": "python",
   "pygments_lexer": "ipython3",
   "version": "3.12.2"
  }
 },
 "nbformat": 4,
 "nbformat_minor": 5
}
