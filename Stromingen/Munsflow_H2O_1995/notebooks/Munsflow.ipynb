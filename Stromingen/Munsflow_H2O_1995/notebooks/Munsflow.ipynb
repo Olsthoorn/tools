{
 "cells": [
  {
   "cell_type": "markdown",
   "id": "bac699dd",
   "metadata": {},
   "source": [
    "# Munsflow (flow pasasing the unsaturated percolation zone)\n",
    "\n",
    "Notebook to run the \"Munsflow\". Munsflow is an application that simulates percolation through thick unsaturaed zones applying the linearized advection-diffusion equation. The unsaturated flow equations being strongly non-linear, this can only work in situaions where the moisture content is largely constant (varies little), so that the conductivity and the diffusivity may be considered constant and equal to the average situation. It is believed by many to be the case in thick unsaturated percolation zones like in the Veluwe and other high-elevation sandy areas. Thick percolation zones may start with thicknesses beyond say 5 m, in which the travel time for water leaving the rootzone is in th order of weeks or months. The Munsflow idea is use of the linearized AD equation, which then allows defining a unique impulse response, step respons and block response, with which one can compute the downrd flux at any depth of the percolation zone by convolution.\n",
    "\n",
    "The transfer function to "
   ]
  },
  {
   "cell_type": "code",
   "execution_count": 8,
   "id": "cf61dd0e",
   "metadata": {},
   "outputs": [],
   "source": [
    "import os\n",
    "import sys\n",
    "import numpy as np\n",
    "import matplotlib.pyplot as plt\n",
    "import etc\n",
    "\n",
    "dirs = etc.Dirs(os.getcwd())\n",
    "sys.path.insert(0, os.getcwd())\n",
    "\n",
    "\n",
    "from src import NL_soils as nls\n"
   ]
  },
  {
   "cell_type": "code",
   "execution_count": 12,
   "id": "1e054289",
   "metadata": {},
   "outputs": [],
   "source": [
    "wbook = os.path.join(dirs.data, 'NL_VG_soilprops.xlsx')\n",
    "nls.Soil.load_soils(wbook)\n",
    "Soil = nls.Soil('B01')\n"
   ]
  },
  {
   "cell_type": "code",
   "execution_count": 11,
   "id": "60069300",
   "metadata": {},
   "outputs": [
    {
     "name": "stdout",
     "output_type": "stream",
     "text": [
      "91225\n"
     ]
    }
   ],
   "source": [
    "print(os.getpid())"
   ]
  },
  {
   "cell_type": "code",
   "execution_count": null,
   "id": "31d3f0f6",
   "metadata": {},
   "outputs": [],
   "source": []
  }
 ],
 "metadata": {
  "kernelspec": {
   "display_name": "Python 3",
   "language": "python",
   "name": "python3"
  },
  "language_info": {
   "codemirror_mode": {
    "name": "ipython",
    "version": 3
   },
   "file_extension": ".py",
   "mimetype": "text/x-python",
   "name": "python",
   "nbconvert_exporter": "python",
   "pygments_lexer": "ipython3",
   "version": "3.12.2"
  }
 },
 "nbformat": 4,
 "nbformat_minor": 5
}
