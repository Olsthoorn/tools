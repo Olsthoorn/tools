{
 "cells": [
  {
   "cell_type": "markdown",
   "metadata": {},
   "source": [
    "# Analysis of groundwater flucuations using analytic multilayer point model\n",
    "\n",
    "## Defining the multilayer analytic column\n",
    "\n",
    "@TO, Feb 5, 2022"
   ]
  },
  {
   "cell_type": "markdown",
   "metadata": {},
   "source": [
    "The analytic solution is as follows\n",
    "\n",
    "$$ \\bold {h} - \\bold{h}_\\infty = (\\bold{I} - \\exp \\left( -\\bold{E} (t - t_0) \\right) \\bold{q} + \\exp \\left (-\\bold{E} (t - t_0) \\right) \\bold{A}^{-2} \\left(\\bold{h}_0 - \\bold{h}_\\infty\\right) $$\n",
    "\n",
    "in which the system matrix was split into its eigen vectors and eigen values diagonal as follows:\n",
    "\n",
    "$$ \\bold{A}^{-2} = \\bold{V} \\bold{E} \\bold{V}^{-1} $$\n",
    "\n",
    "And the i_th line of the system matrix is\n",
    "\n",
    "$$ \\bold{A}_i = \\left[ 0, 0, ..., 0, a_{i,i-1}, a_{i,i}, a_{i, i+1}, 0, ..., 0\\right] = \\left[0, 0, ..., 0, -\\frac{1}{S_i c_i}, \\frac{1}{S_i c_i} + \\frac{1}{S_{i+1} c_{i+1}}, -\\frac{1}{S_{i+1} c_{i+1}}, 0, ..., 0, 0, \\right] $$\n",
    "\n",
    "The vector \n",
    "\n",
    "$$ \\bold{h}_{\\infty} = \\left[\\frac{h_{\\infty, 0}}{S_0, c_0}, 0, ..., 0, ..., 0, \\frac{h_{\\infty,n}} {S_n, c_n} \\right]^{T} $$"
   ]
  },
  {
   "cell_type": "markdown",
   "metadata": {},
   "source": []
  },
  {
   "cell_type": "code",
   "execution_count": null,
   "metadata": {},
   "outputs": [],
   "source": [
    "import numpy as np\n",
    "import matplotlib.pyplot as plt \n",
    "from scipy.special import exp1\n",
    "import scipy.linalg as lalg\n",
    "from scipy.signal import filter\n"
   ]
  },
  {
   "cell_type": "markdown",
   "metadata": {},
   "source": [
    "The idea is to define the analytic multilayer column model as a class with methods for simulation etc.\n",
    "\n",
    "The model represents the groundwater (aquifer system) on a single point that is connnected to the environment through heads across resistances and inputs. These external influences are constant in time in the derivation, but we'll simulation arbitrily varying time inputs by splitting up time in time steps during each of which the inputs are assumed constant.\n",
    "\n",
    "First deifne such that is can be simulating in time, with constant inputs and boundaries only. This is for testing.\n",
    "\n",
    "It should be compared with Modflow to make sure it's correct.\n",
    "\n",
    "Then put it in a simulater class, so that it will simulate with time varying inputs.\n",
    "\n",
    "Finally define drawdowns in terms of Hantush, such that we use the drawdown caused ty a well at distance to be superimposed on the head in the some aquifer of the column model.\n",
    "\n",
    "Also define this hantush drawdown in a class, so that we can have a collection, in which each instance is a specific well at a specific location and a specific extraction of time defined in a series of Q, t pairs. This way we can handle the combined impact of an arbirary number of wells on the location that our column moddel represents."
   ]
  }
 ],
 "metadata": {
  "language_info": {
   "name": "python"
  },
  "orig_nbformat": 4
 },
 "nbformat": 4,
 "nbformat_minor": 2
}
