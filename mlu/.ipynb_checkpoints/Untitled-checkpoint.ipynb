{
 "cells": [
  {
   "cell_type": "markdown",
   "metadata": {},
   "source": [
    "# Analyse pompproef gat_boomse_klei, 19/12/2017, Q=41 m3/h\n",
    "\n",
    "T.N. Olsthoorn"
   ]
  },
  {
   "cell_type": "markdown",
   "metadata": {},
   "source": [
    "De figuur geeft de verlagingen in m gemeten in de verschillende waarnemingsfilters. De afstand van wnp naar onttrekkingsput is in de verschillende labels opgenomen.\n",
    "\n",
    "![drawdowns](./testdata/gat_boomseklei_dd.png)\n",
    "\n",
    "Het startpunt van de put is verlaat met $0.6 \\times 10^{-3}$ d = 52 seconden om het eerste en het tweede punt van de verlaging in de pompput op een rechte lijn te krijgen op half-log schaal. Dit levert een verlaging per log-cyclus op van ca. 24 m. Het bijbehorende doorlaatvermogen bedraagt:\n",
    "\n",
    "$$ s = \\frac Q {4 \\pi kD} \\ln \\left(\\frac {2.25 kD t} {r^2 S} \\right) $$\n",
    "\n",
    "Dalng per logcyclus is\n",
    "\n",
    "$$ s_{logcycle} = \\frac Q {4 \\pi kD} \\ln (10) $$\n",
    "\n",
    "Hence\n",
    "\n",
    "$$ kD = \\frac Q {4 \\pi s_{logcycle}} \\ln (10) $$\n",
    "\n",
    "Ingevuld:"
   ]
  },
  {
   "cell_type": "code",
   "execution_count": 24,
   "metadata": {
    "collapsed": true
   },
   "outputs": [],
   "source": [
    "import numpy as np\n",
    "import matplotlib.pyplot as plt"
   ]
  },
  {
   "cell_type": "code",
   "execution_count": 3,
   "metadata": {},
   "outputs": [
    {
     "name": "stdout",
     "output_type": "stream",
     "text": [
      "kD = 0.313 m3/d\n"
     ]
    }
   ],
   "source": [
    "Q = 41 # m3/d\n",
    "s = 24 # m, drawdown per log-cycle of time\n",
    "kD = Q / (4 * np.pi * s) * np.log(10)\n",
    "print('kD = {:.3g} m3/d'.format(kD))"
   ]
  },
  {
   "cell_type": "markdown",
   "metadata": {},
   "source": [
    "Mijn vraag: Is de Q inderdaad maar 44 m3/d zoals in de mlu file staat of is die 44 m3/h?"
   ]
  },
  {
   "cell_type": "code",
   "execution_count": 4,
   "metadata": {},
   "outputs": [
    {
     "ename": "SyntaxError",
     "evalue": "invalid syntax (<ipython-input-4-820579ac89cf>, line 1)",
     "output_type": "error",
     "traceback": [
      "\u001b[0;36m  File \u001b[0;32m\"<ipython-input-4-820579ac89cf>\"\u001b[0;36m, line \u001b[0;32m1\u001b[0m\n\u001b[0;31m    Pompproef zuittong, Q = 650 m3/d\u001b[0m\n\u001b[0m                     ^\u001b[0m\n\u001b[0;31mSyntaxError\u001b[0m\u001b[0;31m:\u001b[0m invalid syntax\n"
     ]
    }
   ],
   "source": [
    "Pompproef zuittong, Q = 650 m3/d"
   ]
  },
  {
   "cell_type": "code",
   "execution_count": 35,
   "metadata": {},
   "outputs": [],
   "source": [
    "dd = {'PB1-2': {'r': 25.5, 's':2.67},\n",
    "     'PB2-2': {'r': 215, 's':0.451},\n",
    "     #'PB3-2': {'r': 24, 's': 2.29}, skipped, outlier\n",
    "      'PB5-2': {'r': 15, 's': 3.37},\n",
    "     'PB6-2': {'r': 40, 's': 2.26},\n",
    "     'PB7-2': {'r': 91, 's': 1.07},\n",
    "    }\n"
   ]
  },
  {
   "cell_type": "markdown",
   "metadata": {},
   "source": [
    "$$s_i - s_j = \\frac Q {2 \\pi kD} \\ln \\left( \\frac {r_i} {r_j} \\right) $$\n",
    "\n",
    "$$kD = \\frac Q {2 \\pi (s_i - s_j)} \\ln \\left( \\frac {r_i} {r_j} \\right) $$"
   ]
  },
  {
   "cell_type": "code",
   "execution_count": 36,
   "metadata": {},
   "outputs": [
    {
     "name": "stdout",
     "output_type": "stream",
     "text": [
      "99.3928518438\n",
      "94.3633467478\n",
      "91.4121491575\n",
      "71.4574978999\n"
     ]
    }
   ],
   "source": [
    "Q = 650\n",
    "keys = list(dd.keys())\n",
    "kD = np.zeros(len(keys))\n",
    "for j, i in zip(keys[:-1], keys[1:]):\n",
    "    kD = Q / (2 * np.pi * (dd[i]['s'] - dd[j]['s'])) * np.log(dd[j]['r'] / dd[i]['r'])\n",
    "    print(kD)"
   ]
  },
  {
   "cell_type": "markdown",
   "metadata": {},
   "source": [
    "Median kD value is 90 m3/d"
   ]
  },
  {
   "cell_type": "markdown",
   "metadata": {},
   "source": [
    "Plot the drawdown in aquifer 2 as a function of distance.\n",
    "They should lie more or less on a straigt line on half log scale."
   ]
  },
  {
   "cell_type": "code",
   "execution_count": 37,
   "metadata": {},
   "outputs": [
    {
     "name": "stdout",
     "output_type": "stream",
     "text": [
      "[[  25.5      2.67 ]\n",
      " [ 215.       0.451]\n",
      " [  15.       3.37 ]\n",
      " [  40.       2.26 ]\n",
      " [  91.       1.07 ]]\n"
     ]
    },
    {
     "data": {
      "image/png": "[encoded data removed]",
      "text/plain": [
       "<matplotlib.figure.Figure at 0x11d5a6470>"
      ]
     },
     "metadata": {},
     "output_type": "display_data"
    }
   ],
   "source": [
    "rs = np.array([(dd[d]['r'], dd[d]['s']) for d in dd])\n",
    "print(rs)\n",
    "plt.plot(rs[:, 0], rs[:, 1], 'ro')\n",
    "for k in dd:\n",
    "    plt.text(dd[k]['r'], dd[k]['s'], k)\n",
    "plt.xscale('log')\n",
    "plt.grid(True)\n",
    "plt.ylabel('dd [m]')\n",
    "plt.xlabel('r [m]')\n",
    "plt.title('dd, pomproef 7 zuid_tong')\n",
    "plt.ylim((4, 0))\n",
    "plt.show()"
   ]
  },
  {
   "cell_type": "markdown",
   "metadata": {},
   "source": [
    "median kD value is 90 m2/d. Bij een totale aquiferdikte van 18 m, komt dit neer op een k van 5 m/d."
   ]
  }
 ],
 "metadata": {
  "kernelspec": {
   "display_name": "Python 3",
   "language": "python",
   "name": "python3"
  }
 },
 "nbformat": 4,
 "nbformat_minor": 2
}
